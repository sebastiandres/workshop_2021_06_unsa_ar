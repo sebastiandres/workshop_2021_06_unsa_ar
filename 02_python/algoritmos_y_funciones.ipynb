{
 "cells": [
  {
   "cell_type": "markdown",
   "metadata": {
    "slideshow": {
     "slide_type": "slide"
    }
   },
   "source": [
    "<img src=\"images/utfsm.png\" alt=\"\" width=\"200px\" align=\"right\"/>\n",
    "# USM Numérica\n",
    "## Algoritmos y Funciones\n",
    "### Objetivos\n",
    "1. Conocer los conceptos de algoritmo, código y pseudo-código.\n",
    "1. Conectar los conceptos anteriores con la generación de algoritmos y funciones en Python.\n",
    "\n",
    "### Motivación\n",
    "Imagine que Ud. es un trabaja en una compañía de seguros para la cual es necesario evaluar constantemente el nivel de riesgo de un cliente en base a sus antecedentes antes de negociar un producto. ¿Será posible automatizar el proceso con el fin de trabajar menos, mejorar los tiempos de evaluación y hacer el proceso más eficiente?\n",
    "\n",
    "La respuesta a esta y muchas otras preguntas se encuentra en la creación de algoritmos de programación."
   ]
  },
  {
   "cell_type": "markdown",
   "metadata": {
    "slideshow": {
     "slide_type": "slide"
    }
   },
   "source": [
    "## 0.1 Instrucciones\n",
    "Instrucciones de [instalación](https://github.com/usantamaria/ipynb_para_docencia/wiki/Instalacion) y [utilización](https://github.com/usantamaria/ipynb_para_docencia/wiki/Utilizacion) de un ipython notebook.\n",
    "\n",
    "Recuerden:\n",
    "* Desarrollar los problemas de manera secuencial.\n",
    "* Guardar constantemente con *`Ctr-S`* para evitar sorpresas.\n",
    "* Reemplazar en las celdas de código donde diga *`FIX_ME`* por el código correspondiente.\n",
    "* Ejecutar cada celda de código utilizando *`Ctr-Enter`*\n",
    "\n",
    "## 0.2 Licenciamiento y Configuración\n",
    "Ejecutar la siguiente celda mediante *`Ctr-Enter`*."
   ]
  },
  {
   "cell_type": "code",
   "execution_count": 1,
   "metadata": {
    "collapsed": false
   },
   "outputs": [
    {
     "data": {
      "text/html": [
       "<style>\n",
       "\n",
       "/*********************************************\n",
       " * CHANGE CURSIVE FOR RED\n",
       " *********************************************/\n",
       "em {font-style: normal !important;\n",
       "    color: #800000;}\n",
       "\n",
       "</style>\n"
      ],
      "text/plain": [
       "<IPython.core.display.HTML object>"
      ]
     },
     "execution_count": 1,
     "metadata": {},
     "output_type": "execute_result"
    }
   ],
   "source": [
    "\"\"\"\n",
    "IPython Notebook v4.0 para python 3.0\n",
    "Librerías adicionales: \n",
    "Contenido bajo licencia CC-BY 4.0. Código bajo licencia MIT. \n",
    "(c) Sebastian Flores, Christopher Cooper, Alberto Rubio, Pablo Bunout.\n",
    "\"\"\"\n",
    "# Configuración para recargar módulos y librerías dinámicamente\n",
    "%reload_ext autoreload\n",
    "%autoreload 2\n",
    "\n",
    "# Configuración para graficos en línea\n",
    "%matplotlib inline\n",
    "\n",
    "# Configuración de estilo\n",
    "from IPython.core.display import HTML\n",
    "HTML(open(\"./style/style.css\", \"r\").read())"
   ]
  },
  {
   "cell_type": "markdown",
   "metadata": {},
   "source": [
    "### 1. Definiciones y conceptos básicos.\n",
    "Entenderemos por **algoritmo** a una serie de pasos que persiguen un objetivo específico. Intuitivamente lo podemos relacionar con una receta de cocina: una serie de pasos bien definidos (sin dejar espacio para la confusión del usuario) que deben ser realizados en un orden específico para obtener un determinado resultado.\n",
    "   En general un buen algoritmo debe poseer las siguientes características:\n",
    "  \n",
    "  1. No debe ser ambiguo en su implementación para cualquier usuario.\n",
    "  2. Debe definir adecuadamente datos de entrada (inputs).\n",
    "  3. Debe producir datos de salida (outputs) específicos.\n",
    "  4. Debe poder realizarse en un número finito de pasos y por ende, en un tiempo finito. ( Ver [The Halting Problem](https://es.wikipedia.org/wiki/Problema_de_la_parada) ).\n",
    "\n",
    "Por otra parte, llamaremos **código** a la materialización, en base a la implementación en la sintaxis adecuada de un determinado lenguaje de programación, de un determinado algoritmo. Entonces, para escribir un buen código y que sea eficiente debe tratar de respetar las ideas anteriores: se debe desarrollar en un número finito de pasos, ocupar adecuadamente las estructuras propias del lenguaje, se debe poder ingresar y manipular adecuadamente los datos de entrada y finalmente entregar el resultado deseado.\n",
    "\n",
    "  A diferencia de lo anterior, una idea un poco menos estructurada es el concepto de **pseudo-código**. Entenderemos por el anterior a la descripción informal de un determinado algoritmo en un determinado lenguaje de programación. Sin embargo, no debe perder las características esenciales de un algoritmo como claridad en los pasos, inputs y outputs bien definidos, etc. de tal forma que permita la implementación directa de éste en el computador.\n",
    "\n",
    "Una vez implementado un algoritmo viene el proceso de revisión de éste. Para realizar adecuadamente lo anterior se recomienda contestar las siguentes preguntas:\n",
    " 1. ¿Mi algoritmo funciona para todos los posibles datos de entrada?\n",
    " 2. ¿Cuánto tiempo tomará en correr mi algoritmo? ¿Cuánta memoria ocupa en mi computador?\n",
    " 3. Ya que sé que mi algoritmo funciona: ¿es posible mejorarlo? ¿Puedo hacer que resuelva mi problema más rápido?"
   ]
  },
  {
   "cell_type": "markdown",
   "metadata": {},
   "source": [
    "### 2. Un ejemplo sencillo: Programa para números primos.\n",
    "A continuación estudiamos el problema de determinar si un número entero $N\\geq 2$ es primo o no. \n",
    "Consideremos los siguientes números: 8191 (primo), 8192 (compuesto), 49979687 (primo), 49979689 (compuesto). \n",
    "\n",
    "##### 2.1 Primer programa\n",
    "\n",
    "Nuestro primer **algoritmo** para determinar si un numero es primo es: verificar que *ningún* número entre $2$ y $N-1$ sea divisor de $N$.\n",
    "\n",
    "El **pseudo-código** es:\n",
    "1. Ingresar un determinado número $N$ mayor a 1.\n",
    "2. Si el número es 2 o 3, el numero es primo. Sino, se analizan los restos de la división entre $2$ y $N-1$. Si ningún resto es cero, entonces el numero $N$ es primo. En otro caso, el número no es primo.\n",
    "\n",
    "El **código** es el siguiente:"
   ]
  },
  {
   "cell_type": "code",
   "execution_count": 22,
   "metadata": {
    "collapsed": false
   },
   "outputs": [
    {
     "name": "stdout",
     "output_type": "stream",
     "text": [
      "Ingrese el numero que desea estudiar 49979689\n",
      "49979689 no es primo\n"
     ]
    }
   ],
   "source": [
    "N = int(raw_input(\"Ingrese el numero que desea estudiar \"))\n",
    "if N<=1:\n",
    "    print(\"Numero N tiene que ser mayor o igual a 2\")\n",
    "elif 2<=N<=3:\n",
    "    print(\"{0} es primo\".format(N))\n",
    "else:\n",
    "    es_primo = True\n",
    "    for i in range(2, N):\n",
    "        if N%i==0:\n",
    "            es_primo = False\n",
    "    if es_primo:\n",
    "        print(\"{0} es primo\".format(N))\n",
    "    else:\n",
    "        print(\"{0} es compuesto\".format(N))        "
   ]
  },
  {
   "cell_type": "markdown",
   "metadata": {},
   "source": [
    "##### 2.2 Segundo Programa\n",
    "\n",
    "Al utilizar números grandes ($N=10^7$, por ejemplo) nos damos cuenta que el algoritmo anterior tarda mucho tiempo en ejecutar, y que recorre todos los numeros. Sin embargo, si se encuentra un divisor ya sabemos que el número no es primo, pudiendo detener inmediatamente el algoritmo. Esto se consigue utilizando únicamente una línea extra, con una sentencia `break`. \n",
    "\n",
    "El **algoritmo** para verificar si un numero no primo es: verificar si *algún* numero entre $2$ y $N-1$ es divisor de $N$.\n",
    "\n",
    "El **pseudo-código** es:\n",
    "1. Ingresar un determinado número $N$ mayor a 1.\n",
    "2. Si el número es 2 o 3, el numero es primo. Sino, se analizan los restos de la división entre $2$ y $N-1$. Si alguno de los restos es cero, entonces el numero $N$ es divisible, y no es primo.\n",
    "\n",
    "Mientras que el **código** es el siguiente:"
   ]
  },
  {
   "cell_type": "code",
   "execution_count": 23,
   "metadata": {
    "collapsed": false
   },
   "outputs": [
    {
     "name": "stdout",
     "output_type": "stream",
     "text": [
      "Ingrese el numero que desea estudiar 49979689\n",
      "49979689 no es primo\n"
     ]
    }
   ],
   "source": [
    "N = int(raw_input(\"Ingrese el numero que desea estudiar \"))\n",
    "if N<=1:\n",
    "    print(\"Numero N tiene que ser mayor o igual a 2\")\n",
    "elif 2<=N<=3:\n",
    "    print(\"{0} es primo\".format(N))\n",
    "else:\n",
    "    es_primo = True\n",
    "    for i in range(2, N):\n",
    "        if N%i==0:\n",
    "            es_primo = False\n",
    "            break\n",
    "    if es_primo:\n",
    "        print(\"{0} es primo\".format(N))\n",
    "    else:\n",
    "        print(\"{0} es compuesto\".format(N))        "
   ]
  },
  {
   "cell_type": "markdown",
   "metadata": {},
   "source": [
    "La ejecución de números grandes compuestos se detiene en el primer múltiplo cuando el número es compuesto. Sin embargo, para numeros grandes y primos tarda bastante. \n",
    "\n",
    "##### 2.3 Tercer Programa\n",
    "Un último truco que podemos utilizar para verificar más rápidamente si un número es primo es verificar únicamente parte del rango de los múltiplos. Esto se explica mejor con un ejemplo. Consideremos el número 16: los multiplos son 2, 4 y 8. Como el número es compuesto, nuestro algoritmo anterior detecta rápidamente que 2 es un factor, detiene el algoritmo e indica que el número 12 no es primo. Consideremos ahora el numero 17: es un número primo y no tiene factores, por lo que el algoritmo revisa los numeros 2, 3, 4, 5, 6, 7, 8, 9, 10, 11, 12, 13, 14, 15 y 16. Sin embargo, sólo es necesario revisar los números 2, 3, 4, 5 y 6 porque para que exista un factor mayor a 6, tiene que simultáneamente haber un factor menor a 6 tal que la multiplicación sea 17. Esto es, basta revisar los factores más pequeños, donde la cota está dada por el entero más cercano a $\\sqrt{17}$ o en general, $\\sqrt{N}$. \n",
    "\n",
    "El **algoritmo** para verificar si un numero no primo es: verificar si *algún* numero entero entre $2$ y $\\sqrt{N}$ es divisor de $N$.\n",
    "\n",
    "El **pseudo-código** es:\n",
    "1. Ingresar un determinado número $N$ mayor a 1.\n",
    "2. Si el número es 2 o 3, el numero es primo. Sino, se analizan los restos de la división para cada número entre $2$ y $\\sqrt{N-1}$. Si alguno de los restos es cero, entonces el numero $N$ es divisible, y no es primo.\n",
    "\n",
    "Mientras que el **código** es el siguiente:"
   ]
  },
  {
   "cell_type": "code",
   "execution_count": 24,
   "metadata": {
    "collapsed": false
   },
   "outputs": [
    {
     "name": "stdout",
     "output_type": "stream",
     "text": [
      "Ingrese el numero que desea estudiar 49979687\n",
      "49979687 es primo\n"
     ]
    }
   ],
   "source": [
    "N = int(raw_input(\"Ingrese el numero que desea estudiar \"))\n",
    "if N<=1:\n",
    "    print(\"Numero N tiene que ser mayor o igual a 2\")\n",
    "elif 2<=N<=3:\n",
    "    print(\"{0} es primo\".format(N))\n",
    "else:\n",
    "    es_primo = True\n",
    "    for i in range(2, int(N**.5)):\n",
    "        if N%i==0:\n",
    "            es_primo = False\n",
    "            break\n",
    "    if es_primo:\n",
    "        print(\"{0} es primo\".format(N))\n",
    "    else:\n",
    "        print(\"{0} no es primo\".format(N))        "
   ]
  },
  {
   "cell_type": "markdown",
   "metadata": {},
   "source": [
    "### 3. Midiendo la complejidad\n",
    "Como dijimos anteriormente luego de hacer que un algoritmo funcione, una de las preguntas más importantes es la revisión de éste haciendo énfasis en la medición del tiempo que necesita para resolver el problema. Así, la primera interrogante es: ¿cómo podemos medir el tiempo que tarda un algoritmo en relación al tamaño del problema que resuelve? Esto se denomina usualmente como complejidad temporal o, en inglés, como **time complexity** o **escalability**.\n",
    "\n",
    "Sin embargo es importante notar que medir la complejidad temporal de un algoritmo puede resultar un poco complejo puesto que: **(a)** El tiempo que toma al computador realizar las distintas operaciones en general es heterogeneo, es decir, realizar una suma es mucho más rápido que hacer una división, **(b)** Computadores distintos puede realizar un determinado experimento en tiempos distintos.\n",
    "\n",
    "La notación estándar para la complejidad de un algoritmo es mediante la letra mayúscula **O**, por lo que la complejidad de alguna función la podemos expresar por O(\"función\"), lo que podemos interpretar como que el número de operaciones es proporcional a la función por una determinada constante. Las complejidades más importantes son:\n",
    "\n",
    "1. O(1) es un algoritmo de complejidad temporal constante, es decir, el número de operaciones del algoritmo realmente no varía mucho si el tamaño del problema crece.\n",
    "2. O(log(n)) es la complejidad logarítmica.\n",
    "3. O(n) significa que la complejidad del problema es lineal, es decir, doblar el tamaño del problema dobla el tamaño requerido para su solución.\n",
    "4. O($n^2$) significa complejidad cuadrática, es decir, doblar el tamaño del problema cuatriplica el tiempo requerido para su solución.\n",
    "5. O($2^n$) y en general O($a^n$), $a>1$, posee complejidad exponencial.\n",
    "\n",
    "En nuestros algoritmos anteriormente desarrollados:\n",
    "1. El primer algoritmo tiene complejidad $O(N)$: siempre tarda lo mismo.\n",
    "2. El segundo algoritmo tiene complejidad variable: si el numero es compuesto tarda en el mejor de los casos O($1$) y O($\\sqrt{N}$) en el peor de los casos (como 25, o cualquier numero primo al cuadrado), pero si es primo tarda O($N$), pues verifica todos los posibles múltiplos.\n",
    "2. El segundo algoritmo tiene complejidad variable: si el numero es compuesto tarda en ambos casos a lo más O($\\sqrt{N}$), pues verifica solo los multiplos menores."
   ]
  },
  {
   "cell_type": "markdown",
   "metadata": {},
   "source": [
    "## Desafío\n",
    "\n",
    "1. A\n",
    "2. B\n",
    "3. C\n"
   ]
  },
  {
   "cell_type": "markdown",
   "metadata": {},
   "source": [
    "## Funciones\n",
    "\n",
    "Cuando un algoritmo se utiliza muy seguido, resulta conveniente encapsular su utilización en una función. Ahora bien, resulta importante destacar que en informática una función no tiene el mismo significado que en matemáticas. Una función (en python) es simplemente una sucesión de acciones que se ejecutan sobre un conjunto de variables de entrada para producir un conjunto de variables de salida.\n",
    "\n",
    "La definición de funciones se realiza de la siguiente forma:\n",
    "\n",
    "```\n",
    "def nombre_de_funcion(variable_1, variable_2, variable_opcional_1=valor_por_defecto_1, ...):\n",
    "    accion_1\n",
    "    accion_2\n",
    "    return valor_1, valor_2\n",
    "```\n",
    "\n",
    "A continuación algunos ejemplos."
   ]
  },
  {
   "cell_type": "code",
   "execution_count": 4,
   "metadata": {
    "collapsed": true
   },
   "outputs": [],
   "source": [
    "def sin_inputs_ni_outputs():\n",
    "    print \"Hola mundo\"\n",
    "    \n",
    "def sin_inputs():\n",
    "    return \"42\"\n",
    "\n",
    "def sin_outputs(a,b):\n",
    "    print a\n",
    "    print b\n",
    "\n",
    "def con_input_y_output(a,b):\n",
    "    return a+b\n",
    "\n",
    "def con_tuti(a,b,c=2):\n",
    "    return a+b*c"
   ]
  },
  {
   "cell_type": "markdown",
   "metadata": {},
   "source": [
    "La función `sin_inputs_ni_outputs` se ejecuta sin recibir datos de entrada ni producir datos de salida (Y no es muy útil)."
   ]
  },
  {
   "cell_type": "code",
   "execution_count": 2,
   "metadata": {
    "collapsed": false
   },
   "outputs": [
    {
     "name": "stdout",
     "output_type": "stream",
     "text": [
      "Hola mundo\n"
     ]
    }
   ],
   "source": [
    "sin_inputs_ni_outputs()"
   ]
  },
  {
   "cell_type": "markdown",
   "metadata": {},
   "source": [
    "La función `sin_inputs` se ejecuta sin recibir datos de entrada pero si produce datos de salida."
   ]
  },
  {
   "cell_type": "code",
   "execution_count": 6,
   "metadata": {
    "collapsed": false
   },
   "outputs": [
    {
     "name": "stdout",
     "output_type": "stream",
     "text": [
      "El sentido de la vida, el universo y todo lo demás es: 42\n"
     ]
    }
   ],
   "source": [
    "x = sin_inputs()\n",
    "print(\"El sentido de la vida, el universo y todo lo demás es: \"+x)"
   ]
  },
  {
   "cell_type": "markdown",
   "metadata": {},
   "source": [
    "La función `con_input_y_output` se ejecuta con datos de entrada y produce datos de salida. Cabe destacar que como python no utiliza tipos de datos, la misma función puede aplicarse a distintos tipos de datos mientras la lógica aplicada dentro de la función tenga sentido (y no arroje errores)."
   ]
  },
  {
   "cell_type": "code",
   "execution_count": 7,
   "metadata": {
    "collapsed": false
   },
   "outputs": [
    {
     "name": "stdout",
     "output_type": "stream",
     "text": [
      "unodos\n",
      "3\n",
      "3.0\n",
      "3.0\n"
     ]
    }
   ],
   "source": [
    "print con_input_y_output(\"uno\",\"dos\")\n",
    "print con_input_y_output(1,2)\n",
    "print con_input_y_output(1.0, 2)\n",
    "print con_input_y_output(1.0, 2.0)"
   ]
  },
  {
   "cell_type": "markdown",
   "metadata": {},
   "source": [
    "La función `con_tuti` se ejecuta con datos de entrada y valores por defecto, y produce datos de salida."
   ]
  },
  {
   "cell_type": "code",
   "execution_count": 11,
   "metadata": {
    "collapsed": false
   },
   "outputs": [
    {
     "name": "stdout",
     "output_type": "stream",
     "text": [
      "5\n",
      "unodosdos\n",
      "7\n",
      "7\n",
      "unodosdosdos\n"
     ]
    }
   ],
   "source": [
    "print con_tuti(1,2)\n",
    "print con_tuti(\"uno\",\"dos\")\n",
    "print con_tuti(1,2,c=3)\n",
    "print con_tuti(1,2,3)\n",
    "print con_tuti(\"uno\",\"dos\",3)"
   ]
  },
  {
   "cell_type": "markdown",
   "metadata": {},
   "source": [
    "## Desafio\n",
    "\n",
    "1. a\n",
    "2. b"
   ]
  }
 ],
 "metadata": {
  "kernelspec": {
   "display_name": "Python 2",
   "language": "python",
   "name": "python2"
  },
  "language_info": {
   "codemirror_mode": {
    "name": "ipython",
    "version": 2
   },
   "file_extension": ".py",
   "mimetype": "text/x-python",
   "name": "python",
   "nbconvert_exporter": "python",
   "pygments_lexer": "ipython2",
   "version": "2.7.6"
  }
 },
 "nbformat": 4,
 "nbformat_minor": 0
}
