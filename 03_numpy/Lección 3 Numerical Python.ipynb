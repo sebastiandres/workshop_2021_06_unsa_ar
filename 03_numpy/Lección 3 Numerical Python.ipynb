{
 "cells": [
  {
   "cell_type": "markdown",
   "metadata": {},
   "source": [
    "# Lección 3: NumPy"
   ]
  },
  {
   "cell_type": "markdown",
   "metadata": {},
   "source": [
    "### Objetivos:\n",
    "\n",
    "1. Conocer y comprender las ventajas de la utilización de la librería Numpy y su desarrollo.\n",
    "2. Estudiar los elementos o módulos esenciales de Numpy."
   ]
  },
  {
   "cell_type": "markdown",
   "metadata": {},
   "source": [
    "### 1. Motivación.\n",
    "\n",
    "Numerical Python, o NumPy por su abreviatura más frecuente es la lanza de batalla para la programación científica en Python puesto que presenta muchas ventajas en relación a la programación sobre Python encontrándose entre éstas rutinas para manipular grandes arreglos y matrices de datos numéricos. Algunas de los módulos contenidos en NumPy son:\n",
    "\n",
    "* Un objeto matriz n-dimensional **ndarray** más rápido y eficiente que el clásico array.\n",
    "* Funciones para realizar cálculos y operaciones con matrices.\n",
    "* Herramientas para la lectura y escritura de conjuntos de datos basados en matrices.\n",
    "* Operaciones del álgebra lineal, transformadas de Fourier, etc.\n",
    "* Elementos para conexión con otros lenguajes.\n",
    "\n",
    "Para comprender las ventajas de NumPy es importante entender porque en realidad Python es tan lento, lo cual se fundamente esencialmente en los siguientes aspectos:\n",
    "\n",
    "1.- ** Python es un lenguaje escrito de forma dinámica en vez estático **  lo que significa que al momento en el que el programa se ejecuta, el intérprete no conoce el tipo de variable que son definidas. \n",
    "\n",
    "2.- ** Python es interpretado en vez de compilado ** puesto que un compilador inteligente puede detectar y optimizar operaciones repetidas o no finalizadas, lo cual puede resultar en mejoras de velocidad.\n",
    "\n",
    "3.- ** El Modelo de objetos de Python puede provocar ineficiencia en el acceso a la memoria ** en contraste con un arreglo básico de NumPy que en su forma más simple está construído sobre un arreglo de C, es decir, como un puntero hacia la dirección de memoria de cada elemento. Por otro lado, una lista de Python tiene un puntero hacia un bufer continuguo de punteros, cada uno de los cuales apuntan a un objeto de Python.\n",
    "\n",
    "Dado lo anterior, de manera natural surge la pregunta ** ¿porqué entonces usar Python?** y su principal ventaja corresponde justamente al hecho de que Python posee un tipeo dinámico lo que lo hace más fácil de usar que C siendo extremadamente flexible mejorando la eficientia de desarrollo de código en aquellas. \n",
    "\n",
    "#### 1.1. Ventajas de NumPy\n",
    "\n",
    "La siguiente pregunta natural entonces es: ¿Por qué NumPy es tan rápido?. La respuesta a lo anterior se fundamente esencialmente en las siguientes razones:\n",
    "\n",
    "* Un arreglo de NumPy está descrito a través de metadata (numéro de dimensión, largo, tipo de datos, etc) y data (almacenada en bloques de memoria homogéneos y contiguos).\n",
    "* Los arreglos computacionales puede ser escritos muy eficientemente en lenguajes de bajo nivel como C, y de hecho, en gran parte NumPy lo está. Adicionalmente muchos métodos y funciones internas están enlazadas con famosas librerías como BLAS (Basic Linear Algebra Subprograms) y LAPACK (Linear Algebra Package).\n",
    "* La ubicación espacial en los patrones de acceso a la memoria resultan en significativas ganancias de rendimiento debido al cache de la CPU. \n",
    "* NumPy permite eliminar bucles y lineas de código a través del uso del cálculo en paralelo para cada elemento del arreglo. (lo que usualmente se denomina vectorizar el código)."
   ]
  },
  {
   "cell_type": "markdown",
   "metadata": {},
   "source": [
    "### 2. Operando con NumPy\n",
    "#### 2.1. Estructuras básicas de datos\n",
    "\n",
    "La estructura básica de datos en NumPy es justamente el ** array **, el que es representado por un conjunto homogéneo de datos: int, float (por defecto), etc. que se disponen de manera adyacente en memoria unidimensional. En el caso que se necesitasen más dimensiones, NumPy proprociona la posibilidad de acceder a los elementos a través de sus índices o bien emplear la estructura ** matrix ** la cual difiere esencialmente en la definición del producto de matrices.\n",
    "\n",
    "Para la creación de un array se poseen los siguientes mecanismos:\n",
    "\n",
    "* A partir de una lista o tupla homogénea.\n",
    "* A través de una función que retorna un array con valores.\n",
    "* Leyendo datos desde un fichero.\n",
    "\n",
    "Junto a lo anterior, la función ** asarray** permite transformar un objeto dado en arreglo. "
   ]
  },
  {
   "cell_type": "code",
   "execution_count": 4,
   "metadata": {
    "collapsed": false
   },
   "outputs": [
    {
     "name": "stdout",
     "output_type": "stream",
     "text": [
      "[3 4 2]\n",
      "[3 4 2]\n"
     ]
    }
   ],
   "source": [
    "from numpy import *\n",
    "\n",
    "Test = [3, 4, 2]\n",
    "A = array(Test)\n",
    "print(A)\n",
    "\n",
    "B = asarray(A)\n",
    "print(B)"
   ]
  },
  {
   "cell_type": "markdown",
   "metadata": {},
   "source": [
    "De forma similar, para realizar la operación inversa, es decir, transformar arrays a listas, se puede utilizar la función ** tolist **.  a través de la sintaxis array.tolist().\n",
    "\n",
    "Algunas funciones útiles para operar con arrays en NumPy son las siguientes:\n",
    "\n",
    "1.- **arange**, el equivalente a **range** en Python, pero tiene como salida un array en vez de una lista y permite utilizar espaciados de tipo **float**\n",
    "\n",
    "#### Ejemplo:\n"
   ]
  },
  {
   "cell_type": "code",
   "execution_count": 5,
   "metadata": {
    "collapsed": false
   },
   "outputs": [
    {
     "name": "stdout",
     "output_type": "stream",
     "text": [
      "[0 1 2]\n",
      "[ 1.   1.5  2.   2.5  3.   3.5  4.   4.5  5.   5.5  6.   6.5  7.   7.5  8.\n",
      "  8.5  9.   9.5]\n"
     ]
    }
   ],
   "source": [
    "Primero = arange(3)\n",
    "print(Primero)\n",
    "\n",
    "Segundo = arange(1, 10, 0.5)\n",
    "print(Segundo)"
   ]
  },
  {
   "cell_type": "markdown",
   "metadata": {},
   "source": [
    "2.- La función **linspace** nos entrega un array con un número determinado de elementos espaciados homogéneamente que incluye los límites, a diferencia de arange."
   ]
  },
  {
   "cell_type": "code",
   "execution_count": 10,
   "metadata": {
    "collapsed": false
   },
   "outputs": [
    {
     "name": "stdout",
     "output_type": "stream",
     "text": [
      "[ 1.          1.11111111  1.22222222  1.33333333  1.44444444  1.55555556\n",
      "  1.66666667  1.77777778  1.88888889  2.        ]\n"
     ]
    }
   ],
   "source": [
    "Linea = linspace(1, 2, 10)\n",
    "print(Linea)"
   ]
  },
  {
   "cell_type": "markdown",
   "metadata": {},
   "source": [
    "3.- **ones**  Nos entrega un array con la cantidad de unos que se indique. con la opción de entregar una matriz de nos en el caso de entregar una tupla."
   ]
  },
  {
   "cell_type": "code",
   "execution_count": 12,
   "metadata": {
    "collapsed": false
   },
   "outputs": [
    {
     "name": "stdout",
     "output_type": "stream",
     "text": [
      "[ 1.  1.  1.]\n",
      "[[ 1.  1.]\n",
      " [ 1.  1.]]\n"
     ]
    }
   ],
   "source": [
    "Erste = ones(3)\n",
    "print(Erste)\n",
    "Zweite = ones((2, 2))\n",
    "print(Zweite)"
   ]
  },
  {
   "cell_type": "markdown",
   "metadata": {},
   "source": [
    "4.- **zeros** entrega un array con ceros y opera de forma análoga al caso de ones."
   ]
  },
  {
   "cell_type": "code",
   "execution_count": 14,
   "metadata": {
    "collapsed": false
   },
   "outputs": [
    {
     "name": "stdout",
     "output_type": "stream",
     "text": [
      "[[ 0.  0.  0.]\n",
      " [ 0.  0.  0.]\n",
      " [ 0.  0.  0.]\n",
      " [ 0.  0.  0.]]\n"
     ]
    }
   ],
   "source": [
    "Dritte = zeros((4, 3))\n",
    "print(Dritte)"
   ]
  },
  {
   "cell_type": "markdown",
   "metadata": {},
   "source": [
    "tanto en el caso de ones como zeros, la función **ones_like** y **zeroz_like** permiten crear un arreglo de igual tamaño a otro arreglo.\n",
    "\n",
    "5.- **eye** genera la matriz identidad por lo que se debe indicar tanto número de filas como de columnas por lo cual permite incluso la generación de matrices no cuadradas. Es posible personalizar la diagonal que se desea llenar a través del parámetro **k** que indica la posición de la diagonal que se desea operar teniendo en mente que la posición por defecto, 0, corresponde a la diagonal principal."
   ]
  },
  {
   "cell_type": "code",
   "execution_count": 18,
   "metadata": {
    "collapsed": false
   },
   "outputs": [
    {
     "name": "stdout",
     "output_type": "stream",
     "text": [
      "[[ 1.  0.  0.]\n",
      " [ 0.  1.  0.]\n",
      " [ 0.  0.  1.]\n",
      " [ 0.  0.  0.]]\n",
      "[[ 1.  0.]\n",
      " [ 0.  1.]]\n",
      "[[ 0.  0.  0.]\n",
      " [ 1.  0.  0.]\n",
      " [ 0.  1.  0.]\n",
      " [ 0.  0.  1.]]\n",
      "[[ 0.  1.  0.]\n",
      " [ 0.  0.  1.]\n",
      " [ 0.  0.  0.]\n",
      " [ 0.  0.  0.]]\n"
     ]
    }
   ],
   "source": [
    "Erste = eye(4,3)\n",
    "Zweite = eye(2,2)\n",
    "Dritte = eye(4,3, k = -1)\n",
    "Vierte = eye(4,3, k = 1)\n",
    "print(Erste)\n",
    "print(Zweite)\n",
    "print(Dritte)\n",
    "print(Vierte)"
   ]
  },
  {
   "cell_type": "markdown",
   "metadata": {},
   "source": [
    "6.- ** copy ** nos permite replicar un array preexistente. Para ello es importante primero comprender que cuando se asigna una variable a un array preexistente no se copia el array sino que se crea otro nombre para el mismo:"
   ]
  },
  {
   "cell_type": "code",
   "execution_count": 5,
   "metadata": {
    "collapsed": false
   },
   "outputs": [
    {
     "name": "stdout",
     "output_type": "stream",
     "text": [
      "[ 4 10  3]\n"
     ]
    }
   ],
   "source": [
    "x = array([4, 10, 3])\n",
    "y = x\n",
    "print(y)"
   ]
  },
  {
   "cell_type": "markdown",
   "metadata": {},
   "source": [
    "En la práctica, se puede considerar tanto a x como a y como un objeto en la memoria que mira las características del array. Así, para copiar un array, podemos ocupar el comando copy para crear otro objeto que mire al array. Es importante destacar que copy entrega los valores del array en el momento en que se copia, por lo cual si se modifica el original no lo hará copy.\n",
    "\n",
    "#### Ejemplo:"
   ]
  },
  {
   "cell_type": "code",
   "execution_count": 6,
   "metadata": {
    "collapsed": false
   },
   "outputs": [
    {
     "name": "stdout",
     "output_type": "stream",
     "text": [
      "[20 10  3]\n",
      "[ 4 10  3]\n"
     ]
    }
   ],
   "source": [
    "x = array([4, 10, 3])\n",
    "y = copy(x)\n",
    "x[0] = 20\n",
    "print(x)\n",
    "print(y)"
   ]
  },
  {
   "cell_type": "markdown",
   "metadata": {},
   "source": [
    "7.- ** concatenate((a1, a2, ..., an))** nos permite concatenar o juntar arrays de una misma dimensión. "
   ]
  },
  {
   "cell_type": "code",
   "execution_count": 12,
   "metadata": {
    "collapsed": false
   },
   "outputs": [
    {
     "data": {
      "text/plain": [
       "array([[2, 2],\n",
       "       [4, 2],\n",
       "       [1, 1]])"
      ]
     },
     "execution_count": 12,
     "metadata": {},
     "output_type": "execute_result"
    }
   ],
   "source": [
    "Erste = array([[2, 2], [4, 2]])\n",
    "Zweite = array([[1, 1]])\n",
    "concatenate((Erste, Zweite))"
   ]
  },
  {
   "cell_type": "markdown",
   "metadata": {},
   "source": [
    "8.- **logspace(n, m, k)** permite producir un array con un número determinado de términos logarítmicamente espaciados donde n representa la potencia primera potencia $10^n$, m > n, la segunda potencia $10^m$ y k el número de términos y al igual que linspace, logspace también incluye los extremos del intervalo."
   ]
  },
  {
   "cell_type": "code",
   "execution_count": 13,
   "metadata": {
    "collapsed": false
   },
   "outputs": [
    {
     "name": "stdout",
     "output_type": "stream",
     "text": [
      "[  1.00000000e+01   6.30957344e+02   3.98107171e+04   2.51188643e+06\n",
      "   1.58489319e+08   1.00000000e+10]\n"
     ]
    }
   ],
   "source": [
    "Beispiel = logspace(1, 10, 6)\n",
    "print(Beispiel)"
   ]
  },
  {
   "cell_type": "markdown",
   "metadata": {},
   "source": [
    "8.- **mgrid[rango_x, rango_y]**, ( donde rango = inicio : final : espaciado ) es una poderosa función que permite la creación de arrays usados en mallados. Como resultado, mgrid nos entrega un array n-dimensional donde m[0, :, :] corresponden a las coordenadas en el eje X y m[1,:,:] las coordenadas en y, etc."
   ]
  },
  {
   "cell_type": "code",
   "execution_count": 14,
   "metadata": {
    "collapsed": false
   },
   "outputs": [
    {
     "name": "stdout",
     "output_type": "stream",
     "text": [
      "[[[ 0.   0.   0.  ...,  0.   0.   0. ]\n",
      "  [ 0.1  0.1  0.1 ...,  0.1  0.1  0.1]\n",
      "  [ 0.2  0.2  0.2 ...,  0.2  0.2  0.2]\n",
      "  ..., \n",
      "  [ 9.7  9.7  9.7 ...,  9.7  9.7  9.7]\n",
      "  [ 9.8  9.8  9.8 ...,  9.8  9.8  9.8]\n",
      "  [ 9.9  9.9  9.9 ...,  9.9  9.9  9.9]]\n",
      "\n",
      " [[ 0.   1.   2.  ...,  7.   8.   9. ]\n",
      "  [ 0.   1.   2.  ...,  7.   8.   9. ]\n",
      "  [ 0.   1.   2.  ...,  7.   8.   9. ]\n",
      "  ..., \n",
      "  [ 0.   1.   2.  ...,  7.   8.   9. ]\n",
      "  [ 0.   1.   2.  ...,  7.   8.   9. ]\n",
      "  [ 0.   1.   2.  ...,  7.   8.   9. ]]]\n"
     ]
    }
   ],
   "source": [
    "Beispiel = mgrid[0:10:0.1, 0:10]\n",
    "print(Beispiel)"
   ]
  },
  {
   "cell_type": "markdown",
   "metadata": {},
   "source": [
    "A continuación se enuncian algunas otras funciones útiles de considerar para la manipulación de arrays con NumPy:\n",
    "* **ndim** nos entrega la dimensión.\n",
    "* **size** nos entrega el número de elementos.\n",
    "* **transpose** nos permite transponer el arreglo de forma análoga como ocurre con una matriz invirtiendo todas las dimensiones."
   ]
  },
  {
   "cell_type": "markdown",
   "metadata": {},
   "source": [
    "#### 1.2. Operaciones con arrays\n",
    "NumPy nos permite realizar operaciones clásicas con los arreglos tanto elemento a elemento como globales. Las más comunes dentro de la clase elemento a elemento son:\n",
    "\n",
    "1. **Suma** (+)\n",
    "2. **Resta** (-)\n",
    "3. **Multiplicación** (*)\n",
    "4. **División** (/)\n",
    "5. **Potenciación** (**)\n",
    "\n",
    "Note que naturalmente se requiere que los arreglos posean las mismas dimensiones. En el caso de las funciones globales dentro de las más útiles es importante destacar:\n",
    "\n",
    "1. **max** retorna el máximo elemento contenido en el array.\n",
    "2. **min** retorna el mínimo elemento contenido en el array.\n",
    "3. **sum** retorna la suma de los elementos.\n",
    "4. **prod** retorna el producto de los elementos.\n",
    "5. **mean** retorna el promedio por fila de los elementos del array.\n",
    "6. **std** retorna la desviación estándar de los elementos contenidos en el array.\n",
    "7. **cross** realiza el producto vectorial bajo dimensiones adecuadas.\n",
    "8. **outer** retorna el producto externo de los vectores contenidos en un array."
   ]
  },
  {
   "cell_type": "markdown",
   "metadata": {},
   "source": [
    "#### 1.3. Vectorización de funciones.\n",
    "Considere la siguiente motivación: NumPy nos entrega la posibilidad de definir funciones que utilicen como datos de entrada arrays. Por ejemplo:"
   ]
  },
  {
   "cell_type": "code",
   "execution_count": 20,
   "metadata": {
    "collapsed": false
   },
   "outputs": [
    {
     "data": {
      "text/plain": [
       "array([ 3.46510853,  0.8525469 ,  3.89083084])"
      ]
     },
     "execution_count": 20,
     "metadata": {},
     "output_type": "execute_result"
    }
   ],
   "source": [
    "def Ruido(A):\n",
    "    return A+3*sin(A)*log(A)\n",
    "\n",
    "Beispiel = array([[2, 3, 4], [0.1, 0.2, 0.3], [10, 10, -1]])\n",
    "Ruido(A)"
   ]
  },
  {
   "cell_type": "markdown",
   "metadata": {},
   "source": [
    "Sin embargo, en ocasiones dichas funciones pueden arrojarnos errores puesto que no es posible invocarlas directamente con esta clase de objetos. "
   ]
  },
  {
   "cell_type": "code",
   "execution_count": 21,
   "metadata": {
    "collapsed": false
   },
   "outputs": [
    {
     "ename": "ValueError",
     "evalue": "The truth value of an array with more than one element is ambiguous. Use a.any() or a.all()",
     "output_type": "error",
     "traceback": [
      "\u001b[1;31m---------------------------------------------------------------------------\u001b[0m",
      "\u001b[1;31mValueError\u001b[0m                                Traceback (most recent call last)",
      "\u001b[1;32m<ipython-input-21-01857a800a73>\u001b[0m in \u001b[0;36m<module>\u001b[1;34m()\u001b[0m\n\u001b[0;32m      3\u001b[0m \u001b[1;33m\u001b[0m\u001b[0m\n\u001b[0;32m      4\u001b[0m \u001b[0mBeispiel\u001b[0m \u001b[1;33m=\u001b[0m \u001b[0marray\u001b[0m\u001b[1;33m(\u001b[0m\u001b[1;33m[\u001b[0m\u001b[1;33m[\u001b[0m\u001b[1;36m2\u001b[0m\u001b[1;33m,\u001b[0m \u001b[1;36m2\u001b[0m\u001b[1;33m,\u001b[0m \u001b[1;36m10\u001b[0m\u001b[1;33m]\u001b[0m\u001b[1;33m,\u001b[0m \u001b[1;33m[\u001b[0m\u001b[1;36m10\u001b[0m\u001b[1;33m,\u001b[0m \u001b[1;36m4\u001b[0m\u001b[1;33m,\u001b[0m \u001b[1;36m10\u001b[0m\u001b[1;33m]\u001b[0m\u001b[1;33m]\u001b[0m\u001b[1;33m)\u001b[0m\u001b[1;33m\u001b[0m\u001b[0m\n\u001b[1;32m----> 5\u001b[1;33m \u001b[0mComparador\u001b[0m\u001b[1;33m(\u001b[0m\u001b[0mA\u001b[0m\u001b[1;33m)\u001b[0m\u001b[1;33m\u001b[0m\u001b[0m\n\u001b[0m",
      "\u001b[1;32m<ipython-input-21-01857a800a73>\u001b[0m in \u001b[0;36mComparador\u001b[1;34m(A)\u001b[0m\n\u001b[0;32m      1\u001b[0m \u001b[1;32mdef\u001b[0m \u001b[0mComparador\u001b[0m\u001b[1;33m(\u001b[0m\u001b[0mA\u001b[0m\u001b[1;33m)\u001b[0m\u001b[1;33m:\u001b[0m\u001b[1;33m\u001b[0m\u001b[0m\n\u001b[1;32m----> 2\u001b[1;33m     \u001b[1;32mreturn\u001b[0m \u001b[0mA\u001b[0m \u001b[1;32mif\u001b[0m \u001b[0mA\u001b[0m \u001b[1;33m>\u001b[0m \u001b[1;36m10\u001b[0m \u001b[1;32melse\u001b[0m \u001b[1;33m-\u001b[0m\u001b[0mA\u001b[0m\u001b[1;33m\u001b[0m\u001b[0m\n\u001b[0m\u001b[0;32m      3\u001b[0m \u001b[1;33m\u001b[0m\u001b[0m\n\u001b[0;32m      4\u001b[0m \u001b[0mBeispiel\u001b[0m \u001b[1;33m=\u001b[0m \u001b[0marray\u001b[0m\u001b[1;33m(\u001b[0m\u001b[1;33m[\u001b[0m\u001b[1;33m[\u001b[0m\u001b[1;36m2\u001b[0m\u001b[1;33m,\u001b[0m \u001b[1;36m2\u001b[0m\u001b[1;33m,\u001b[0m \u001b[1;36m10\u001b[0m\u001b[1;33m]\u001b[0m\u001b[1;33m,\u001b[0m \u001b[1;33m[\u001b[0m\u001b[1;36m10\u001b[0m\u001b[1;33m,\u001b[0m \u001b[1;36m4\u001b[0m\u001b[1;33m,\u001b[0m \u001b[1;36m10\u001b[0m\u001b[1;33m]\u001b[0m\u001b[1;33m]\u001b[0m\u001b[1;33m)\u001b[0m\u001b[1;33m\u001b[0m\u001b[0m\n\u001b[0;32m      5\u001b[0m \u001b[0mComparador\u001b[0m\u001b[1;33m(\u001b[0m\u001b[0mA\u001b[0m\u001b[1;33m)\u001b[0m\u001b[1;33m\u001b[0m\u001b[0m\n",
      "\u001b[1;31mValueError\u001b[0m: The truth value of an array with more than one element is ambiguous. Use a.any() or a.all()"
     ]
    }
   ],
   "source": [
    "def Comparador(A):\n",
    "    return A if A > 10 else -A\n",
    "\n",
    "Beispiel = array([[2, 2, 10], [10, 4, 10]])\n",
    "Comparador(A)"
   ]
  },
  {
   "cell_type": "markdown",
   "metadata": {},
   "source": [
    "Lo anterior se debe a que se requiere primeramente vectorizar la función, es decir, realizar el proceso de transformación una implementación escalar a una implementación vectorial traduciéndose en el número de operaciones necesarias para operar con los elementos del array. Lo anterior se puede realizar a través de un **decorador** (una función que se invoca antes que nuestra función principal y la transforma). Así, usando **@vectorize** "
   ]
  },
  {
   "cell_type": "code",
   "execution_count": 23,
   "metadata": {
    "collapsed": false
   },
   "outputs": [
    {
     "data": {
      "text/plain": [
       "array([-3, -4, -2])"
      ]
     },
     "execution_count": 23,
     "metadata": {},
     "output_type": "execute_result"
    }
   ],
   "source": [
    "@vectorize\n",
    "\n",
    "def Comparador(A):\n",
    "    return A if A > 10 else -A\n",
    "\n",
    "Comparador(A)"
   ]
  },
  {
   "cell_type": "markdown",
   "metadata": {},
   "source": [
    "Además de lo anterior, el interés de vectorizar el código se encuentra en que internamente al realizar lo anterior se eliminan índices que deben ser iterados para la operación a través de bucles sin embargo, esto produce más gasto de memoria y a veces, requiere inclusive replantear y adaptar el código. Veamos a continuación un breve ejemplo de lo anterior:\n",
    "\n",
    "#### Ejemplo: \n",
    "Dada una matriz $\\mathcal{Q}_{m \\times n}$ con $m > n$ se desea encontrar un vector ortogonal al espacio generado por las columnas de $\\mathcal{Q}$."
   ]
  },
  {
   "cell_type": "code",
   "execution_count": 28,
   "metadata": {
    "collapsed": true
   },
   "outputs": [],
   "source": [
    "def ort_escalar(Q, v):\n",
    "    m, n = Q.shape\n",
    "    for j in range(n):\n",
    "        v -= dot(Q[:,j], v)*Q[:,j]\n",
    "    return v\n",
    "\n",
    "def ort_vectorizado(Q, v):\n",
    "    proyeccion = dot(Q.transpose(), v)\n",
    "    v -= dot(Q, proyeccion)\n",
    "    return v\n"
   ]
  },
  {
   "cell_type": "code",
   "execution_count": 29,
   "metadata": {
    "collapsed": false
   },
   "outputs": [],
   "source": [
    "m, n = 10000, 100\n",
    "A = 10 * random.random((m, n))\n",
    "Q, R = linalg.qr(A, mode = 'reduced')\n",
    "del R\n",
    "\n",
    "v = random.random(m)\n",
    "v1 = v.copy()\n",
    "v2 = v.copy()"
   ]
  },
  {
   "cell_type": "code",
   "execution_count": 30,
   "metadata": {
    "collapsed": false
   },
   "outputs": [
    {
     "name": "stdout",
     "output_type": "stream",
     "text": [
      "100 loops, best of 3: 6.68 ms per loop\n"
     ]
    }
   ],
   "source": [
    "%timeit ort_escalar(Q, v1)"
   ]
  },
  {
   "cell_type": "code",
   "execution_count": 31,
   "metadata": {
    "collapsed": false
   },
   "outputs": [
    {
     "name": "stdout",
     "output_type": "stream",
     "text": [
      "The slowest run took 109.98 times longer than the fastest. This could mean that an intermediate result is being cached.\n",
      "1000 loops, best of 3: 1.01 ms per loop\n"
     ]
    }
   ],
   "source": [
    "%timeit ort_vectorizado(Q, v2)"
   ]
  }
 ],
 "metadata": {
  "kernelspec": {
   "display_name": "Python 2",
   "language": "python",
   "name": "python2"
  },
  "language_info": {
   "codemirror_mode": {
    "name": "ipython",
    "version": 2
   },
   "file_extension": ".py",
   "mimetype": "text/x-python",
   "name": "python",
   "nbconvert_exporter": "python",
   "pygments_lexer": "ipython2",
   "version": "2.7.11"
  }
 },
 "nbformat": 4,
 "nbformat_minor": 0
}
