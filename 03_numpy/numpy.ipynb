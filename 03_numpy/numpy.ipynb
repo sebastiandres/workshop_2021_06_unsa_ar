{
 "cells": [
  {
   "cell_type": "markdown",
   "metadata": {
    "slideshow": {
     "slide_type": "slide"
    }
   },
   "source": [
    "<img src=\"images/utfsm.png\" alt=\"\" width=\"200px\" align=\"right\"/>\n",
    "# USM Numérica\n",
    "## Librería numpy\n",
    "### Objetivos\n",
    "1. Conocer la librería numpy y su aplicación para cálculo numérico.\n",
    "2. Aprender las diferencias de utilización entre numpy.matrix y numpy.array."
   ]
  },
  {
   "cell_type": "markdown",
   "metadata": {
    "slideshow": {
     "slide_type": "slide"
    }
   },
   "source": [
    "## 0.1 Instrucciones\n",
    "Las instrucciones de instalación y uso de un ipython notebook se encuentran en el siguiente [link](link).\n",
    "\n",
    "Después de descargar y abrir el presente notebook, recuerden:\n",
    "* Desarrollar los problemas de manera secuencial.\n",
    "* Guardar constantemente con *`Ctr-S`* para evitar sorpresas.\n",
    "* Reemplazar en las celdas de código donde diga *`FIX_ME`* por el código correspondiente.\n",
    "* Ejecutar cada celda de código utilizando *`Ctr-Enter`*\n",
    "\n",
    "## 0.2 Licenciamiento y Configuración\n",
    "Ejecutar la siguiente celda mediante *`Ctr-S`*."
   ]
  },
  {
   "cell_type": "code",
   "execution_count": 2,
   "metadata": {
    "collapsed": false,
    "slideshow": {
     "slide_type": "skip"
    }
   },
   "outputs": [
    {
     "data": {
      "text/html": [
       "<style>\n",
       "\n",
       "/*********************************************\n",
       " * CHANGE CURSIVE FOR RED\n",
       " *********************************************/\n",
       "em {font-style: normal !important;\n",
       "    color: #800000;}\n",
       "\n",
       "</style>\n"
      ],
      "text/plain": [
       "<IPython.core.display.HTML object>"
      ]
     },
     "execution_count": 2,
     "metadata": {},
     "output_type": "execute_result"
    }
   ],
   "source": [
    "\"\"\"\n",
    "IPython Notebook v4.0 para python 3.0\n",
    "Librerías adicionales: numpy, matplotlib\n",
    "Contenido bajo licencia CC-BY 4.0. Código bajo licencia MIT. \n",
    "(c) Sebastian Flores, Christopher Cooper, Alberto Rubio, Pablo Bunout.\n",
    "\"\"\"\n",
    "# Configuración para recargar módulos y librerías dinámicamente\n",
    "%reload_ext autoreload\n",
    "%autoreload 2\n",
    "\n",
    "# Configuración para graficos en línea\n",
    "%matplotlib inline\n",
    "\n",
    "# Configuración de estilo\n",
    "from IPython.core.display import HTML\n",
    "HTML(open(\"./style/style.css\", \"r\").read())"
   ]
  },
  {
   "cell_type": "markdown",
   "metadata": {},
   "source": [
    "## Contenido\n",
    "1. Overview de Numpy y Scipy\n",
    "2. Librería Numpy\n",
    "  * Arreglos vs Matrices\n",
    "  * Axis\n",
    "  * Funciones basicas.\n",
    "  * Input y Output\n",
    "3. Tips"
   ]
  },
  {
   "cell_type": "markdown",
   "metadata": {},
   "source": [
    "## 1. Overview de numpy y scipy\n",
    "\n",
    "¿Cual es la diferencia entre numpy y scipy?\n",
    "\n",
    "*In an ideal world, NumPy would contain nothing but the array data type and the most basic operations: indexing, sorting, reshaping, basic elementwise functions, et cetera. All numerical code would reside in SciPy. However, one of NumPy’s important goals is compatibility, so NumPy tries to retain all features supported by either of its predecessors. Thus NumPy contains some linear algebra functions, even though these more properly belong in SciPy. In any case, SciPy contains more fully-featured versions of the linear algebra modules, as well as many other numerical algorithms. If you are doing scientific computing with python, you should probably install both NumPy and SciPy. Most new features belong in SciPy rather than NumPy.*\n",
    "[Link stackoverflow](http://stackoverflow.com/questions/10766082/why-do-numpy-and-scipy-have-a-lot-of-the-same-functions-which-should-i-prefer/10767644#10767644)\n",
    "\n",
    "Por ser python un lenguaje open-source, existen miles de paquetes disponibles creados por individuos o comunidades.  Éstos pueden estar disponibles en un repositorio como github o bitbucket, o bien estar disponibles en el repositorio oficial de python: [pypi](https://pypi.python.org/pypi). En un inicio, cuando no existía una librerías de cálculo científico oficial, varios candidatos proponían soluciones:\n",
    "* **numpy**: tenía una excelente representación de vectores, matrices y arreglos, implementados en C y llamados fácilmente desde python\n",
    "* **scipy**: proponía linkear a librerías ya elaboradas de calculo científico de alto rendimiento en C o fortran, permitiendo ejecutar rápidamente desde python.\n",
    "\n",
    "Ambos projectos fueron creciendo en complejidad y alcance, y en vez de competir, decidieron dividir tareas y unificar fuerzas para proponer una plataforma de cálculo científico que reemplazara completamente otros programas.\n",
    "\n",
    "* **numpy**: Corresponde a lo relacionado con la estructura de los datos (arrays densos y sparse, matrices, constructores especiales, lectura de datos regulares, etc.), pero no las operaciones en sí. Por razones históricas y de compatibilidad, tiene algunos algoritmos, pero en realidad resulta más consistente utilizar los algoritmos de scipy.\n",
    "* **scipy**: Corresponde a la implementación numérica de diversos algoritmos de corte científicos: algebra lineal, estadística, ecuaciones diferenciales ordinarias, interpolacion, integracion, optimización, análisis de señales, entre otros.\n",
    "\n",
    "#### OBSERVACIÓN IMPORTANTE:\n",
    "Las matrices y arrays de numpy deben contener variables con el mismo tipo de datos: sólo enteros, sólo flotantes, sólo complejos, sólo booleanos o sólo strings. La uniformicidad de los datos es lo que permite acelerar los cálculos con implementaciones en C a bajo nivel."
   ]
  },
  {
   "cell_type": "markdown",
   "metadata": {},
   "source": [
    "## 2. Librería Numpy\n",
    "Siempre importaremos la librería numpy de la siguiente forma:\n",
    "\n",
    "    import numpy as np\n",
    "    \n",
    "Todas las funciones y módulos de numpy quedan a nuestro alcance a 3 carácteres de distancia:\n",
    "\n",
    "    np.array([1,4,9,16])\n",
    "    np.linspace(0.,1.,100)\n",
    "    \n",
    "Evite a todo costo utilizar lo siguiente:\n",
    "\n",
    "    from numpy import *"
   ]
  },
  {
   "cell_type": "code",
   "execution_count": null,
   "metadata": {
    "collapsed": false
   },
   "outputs": [],
   "source": [
    "import numpy as np\n",
    "print np.version.version # Si alguna vez tienen problemas, verifiquen su version de numpy"
   ]
  },
  {
   "cell_type": "markdown",
   "metadata": {},
   "source": [
    "## Importante\n",
    "**Ipython notebook** es interactivo y permite la utilización de tabulación para ofrecer sugerencias o enseñar ayuda (no solo para numpy, sino que para cualquier código en python).\n",
    "\n",
    "Pruebe los siguientes ejemplos:"
   ]
  },
  {
   "cell_type": "code",
   "execution_count": null,
   "metadata": {
    "collapsed": true
   },
   "outputs": [],
   "source": [
    "# Presionar tabulacción con el cursor despues de np.arr\n",
    "np.arr"
   ]
  },
  {
   "cell_type": "code",
   "execution_count": null,
   "metadata": {
    "collapsed": false
   },
   "outputs": [],
   "source": [
    "# Presionar Ctr-Enter para obtener la documentacion de la funcion np.array usando \"?\"\n",
    "np.array?"
   ]
  },
  {
   "cell_type": "code",
   "execution_count": null,
   "metadata": {
    "collapsed": false
   },
   "outputs": [],
   "source": [
    "# Presionar Ctr-Enter\n",
    "%who"
   ]
  },
  {
   "cell_type": "code",
   "execution_count": null,
   "metadata": {
    "collapsed": false
   },
   "outputs": [],
   "source": [
    "x = 10\n",
    "%who"
   ]
  },
  {
   "cell_type": "markdown",
   "metadata": {},
   "source": [
    "#### 2. Librería Numpy\n",
    "## 2.1 Array vs Matrix\n",
    "\n",
    "Por defecto, la gran mayoria de las funciones de numpy y de scipy asumen que se les pasará un objeto de tipo **array**. \n",
    "\n",
    "Veremos las diferencias entre los objetos array y matrix, pero recuerden utilizar array mientras sea posible."
   ]
  },
  {
   "cell_type": "markdown",
   "metadata": {},
   "source": [
    "## Matrix\n",
    "\n",
    "Una matrix de numpy se comporta exactamente como esperaríamos de una matriz:\n",
    "\n",
    "### Pros:\n",
    "* Multiplicación utiliza el signo * como es esperable.\n",
    "* Resulta natural si lo único que haremos es algebra lineal.\n",
    "\n",
    "### Contras:\n",
    "* Todas las matrices deben estar completamente alineadas para poder operar correctamente.\n",
    "* Operaciones elementwise son mas dificiles de definir/acceder.\n",
    "* Están exclusivamente definidas en 2D: un vector fila o un vector columna siguen siendo 2D."
   ]
  },
  {
   "cell_type": "code",
   "execution_count": null,
   "metadata": {
    "collapsed": false
   },
   "outputs": [],
   "source": [
    "# Operaciones con np.matrix\n",
    "A = np.matrix([[1,2],[3,4]])\n",
    "B = np.matrix([[1, 1],[0,1]], dtype=float)\n",
    "x = np.matrix([[1],[2]])\n",
    "print \"A =\\n\", A\n",
    "print \"B =\\n\", B\n",
    "print \"x =\\n\", x\n",
    "\n",
    "print \"A+B =\\n\", A+B\n",
    "print \"A*B =\\n\", A*B\n",
    "print \"A*x =\\n\", A*x\n",
    "print \"A*A = A^2 =\\n\", A**2\n",
    "print \"x.T*A =\\n\", x.T * A"
   ]
  },
  {
   "cell_type": "markdown",
   "metadata": {},
   "source": [
    "#### 2.1 Array vs Matrix\n",
    "## Array\n",
    "\n",
    "Un array de numpy es simplemente un \"contenedor\" multidimensional.\n",
    "\n",
    "### Pros:\n",
    "* Es multidimensional: 1D, 2D, 3D, ...\n",
    "* Resulta consistente: todas las operaciones son element-wise a menos que se utilice una función específica.\n",
    "\n",
    "### Contras:\n",
    "* Multiplicación maticial utiliza la función **dot()**"
   ]
  },
  {
   "cell_type": "code",
   "execution_count": null,
   "metadata": {
    "collapsed": false
   },
   "outputs": [],
   "source": [
    "# Operaciones con np.matrix\n",
    "A = np.array([[1,2],[3,4]])\n",
    "B = np.array([[1, 1],[0,1]], dtype=float)\n",
    "x = np.array([1,2]) # No hay necesidad de definir como fila o columna!\n",
    "print \"A =\\n\", A\n",
    "print \"B =\\n\", B\n",
    "print \"x =\\n\", x\n",
    "\n",
    "print \"A+B =\\n\", A+B\n",
    "print \"AoB = (multiplicacion elementwise) \\n\", A*B\n",
    "print \"A*B = (multiplicacion matricial, v1) \\n\", np.dot(A,B)\n",
    "print \"A*B = (multiplicacion matricial, v2) \\n\", A.dot(B)\n",
    "print \"A*A = A^2 = (potencia matricial)\\n\", np.linalg.matrix_power(A,2)\n",
    "print \"AoA = (potencia elementwise)\\n\", A**2\n",
    "print \"A*x =\\n\", np.dot(A,x)\n",
    "print \"x.T*A =\\n\", np.dot(x,A) # No es necesario transponer."
   ]
  },
  {
   "cell_type": "markdown",
   "metadata": {},
   "source": [
    "## Desafío 1: matrix vs array\n",
    "Sean\n",
    "$$ \n",
    "A = \\begin{pmatrix} 1 & 0 & 1 \\\\ 0 & 1 & 1\\end{pmatrix}\n",
    "$$\n",
    "y \n",
    "$$ \n",
    "B = \\begin{pmatrix} 1 & 0 & 1 \\\\ 0 & 1 & 1 \\\\ 0 & 0 & 1\\end{pmatrix}\n",
    "$$\n",
    "\n",
    "1. Cree las matrices utilizando np.matrix y multipliquelas en el sentido matricial. Imprima el resultado.\n",
    "2. Cree las matrices utilizando np.array y multipliquelas en el sentido matricial. Imprima el resultado."
   ]
  },
  {
   "cell_type": "code",
   "execution_count": null,
   "metadata": {
    "collapsed": false
   },
   "outputs": [],
   "source": [
    "# 1: Utilizando matrix\n",
    "A = np.matrix([]) # FIX ME\n",
    "B = np.matrix([]) # FIX ME\n",
    "print \"np.matrix, AxB=\\n\", #FIX ME\n",
    "\n",
    "# 2: Utilizando arrays\n",
    "A = np.array([]) # FIX ME\n",
    "B = np.array([]) # FIX ME\n",
    "print \"np.matrix, AxB=\\n\", #FIX ME"
   ]
  },
  {
   "cell_type": "markdown",
   "metadata": {},
   "source": [
    "## 2.2 Indexación y Slicing\n",
    "Los arrays se indexan de la forma \"tradicional\".\n",
    "\n",
    "* Para un array ***unidimensional***: sólo tiene una indexacion. ¡No es ni fila ni columna!\n",
    "* Para un array ***bidimensional***: primera componente son las filas, segunda componente son las columnas. Notación respeta por tanto la convención tradicional de matrices.\n",
    "* Para un array ***tridimensional***: primera componente son las filas, segunda componente son las columnas, tercera componente la siguiente dimension.\n",
    "\n",
    "<img src=\"images/anatomyarray.png\" alt=\"\" height=\"100px\" align=\"left\"/>\n",
    "\n",
    "Respecto a los índices de los elementos, éstos comienzan en cero, como en C. Además, es posible utilizar índices negativos, que como convención asignan -1 al último elemento, al -2 el penúltimo elemento, y así sucesivamente.\n",
    "\n",
    "Por ejemplo, si a = [2,3,5,7,11,13,17,19], entonces a[0] es el valor 2 y a[1] es el valor 3, mientras que a[-1] es el valor 19 y a[-2] es el valor 17.\n",
    "\n",
    "Ademas, en python existe la \"slicing notation\":\n",
    "* **a[start:end]** : items desde índice **start** hasta **end-1**\n",
    "* **a[start:]**    : items desde índice start hasta el final del array\n",
    "* **a[:end]**      : items desde el inicio hasta el índice end-1\n",
    "* **a[:]**         : todos los items del array (una copia nueva)\n",
    "* **a[start:end:step]** : items desde start hasta pasar end (sin incluir) con paso step"
   ]
  },
  {
   "cell_type": "code",
   "execution_count": null,
   "metadata": {
    "collapsed": false
   },
   "outputs": [],
   "source": [
    "x = np.arange(9)   # \"Vector\" con valores del 0 al 8 \n",
    "print \"x = \", x\n",
    "print \"x[:] = \", x[:]\n",
    "print \"x[5:] = \", x[5:]\n",
    "print \"x[:8] = \", x[:8]\n",
    "print \"x[:-1] = \", x[:-1]\n",
    "print \"x[1:-1] = \", x[1:-1]\n",
    "print \"x[1:-1:2] = \", x[1:-1:2]\n",
    "\n",
    "A = x.reshape(3,3) # Arreglo con valores del 0 al 8, en 3 filas y 3 columnas.\n",
    "print \"\\n\"\n",
    "print \"A = \\n\", A\n",
    "print \"primera fila de A\\n\", A[0,:]\n",
    "print \"ultima columna de A\\n\", A[:,-1]\n",
    "print \"submatriz de A\\n\", A[:2,:2]"
   ]
  },
  {
   "cell_type": "markdown",
   "metadata": {},
   "source": [
    "#### Observación\n",
    "1. Cabe destacar que al tomar slices (subsecciones) de un arreglo obtenemos siempre un arreglo con menores dimensiones que el original.\n",
    "2. Esta notación es extremadamente conveniente, puesto que nos permite manipular el array sin necesitar conocer el tamaño del array y escribir de manera compacta las fórmulas numéricas.\n",
    "\n",
    "Por ejemplo, implementar una derivada numérica es tan simple como sigue. "
   ]
  },
  {
   "cell_type": "code",
   "execution_count": null,
   "metadata": {
    "collapsed": false
   },
   "outputs": [],
   "source": [
    "def f(x):\n",
    "    return 1 + x**2\n",
    "\n",
    "x = np.array([0, 0.1, 0.2, 0.3, 0.4, 0.5, 0.6, 0.7, 0.8, 0.9, 1.0]) # O utilizar np.linspace!\n",
    "y = f(x) # Tan facil como llamar f sobre x\n",
    "dydx = ( y[1:] - y[:-1] ) / ( x[1:] - x[:-1] )\n",
    "x_aux = 0.5*(x[1:] + x[:-1])\n",
    "# To plot\n",
    "fig = plt.figure(figsize=(12,8))\n",
    "plt.plot(x, y, '-s', label=\"f\")\n",
    "plt.plot(x_aux, dydx, '-s', label=\"df/dx\")\n",
    "plt.legend(loc=\"upper left\")\n",
    "plt.show()"
   ]
  },
  {
   "cell_type": "markdown",
   "metadata": {},
   "source": [
    "## Desafío 2: Derivación numérica\n",
    "Implemente el cálculo de la segunda derivada, que puede obtenerse por diferencias finitas centradas mediante\n",
    "$$ \\frac{d f(x_i)}{dx} = \\frac{1}{\\Delta x^2} \\Big( f(x_{i+1}) -2 f(x_{i}) + f(x_{i-1}) \\Big)$$"
   ]
  },
  {
   "cell_type": "code",
   "execution_count": null,
   "metadata": {
    "collapsed": false
   },
   "outputs": [],
   "source": [
    "def g(x):\n",
    "    return 1 + x**2 + np.sin(x)\n",
    "\n",
    "x = np.linspace(0,1,10)\n",
    "y = g(x) \n",
    "d2ydx2 = 0 * x # FIX ME\n",
    "x_aux = 0*d2ydx2 # FIX ME\n",
    "# To plot\n",
    "fig = plt.figure(figsize=(12,8))\n",
    "plt.plot(x, y, label=\"f\")\n",
    "plt.plot(x_aux, d2ydx2, label=\"d2f/dx2\")\n",
    "plt.legend(loc=\"upper left\")\n",
    "plt.show()"
   ]
  },
  {
   "cell_type": "markdown",
   "metadata": {},
   "source": [
    "\n",
    "#### 2. Librería Numpy\n",
    "## 2.2 Funciones Básicas\n",
    "\n",
    "Algunas funciones básicas que es conveniente conocer son las siguientes:\n",
    "* **shape**: Entrega las dimensiones del arreglo. Siempre es una tupla.\n",
    "* **len**: Entrega el número de elementos de la primera dimensión del arreglo. Siempre es un entero.\n",
    "* **ones**: Crea un arreglo con las dimensiones provistas e inicializado con valores 1. Por defecto array 1D.\n",
    "* **zeros**: Crea un arreglo con las dimensiones provistas e inicializado con valores 1. Por defecto array 1D.\n",
    "* **eye**: Crea un arreglo con las dimensiones provistas e inicializado con 1 en la diagonal. Por defecto array 2D."
   ]
  },
  {
   "cell_type": "code",
   "execution_count": null,
   "metadata": {
    "collapsed": false
   },
   "outputs": [],
   "source": [
    "# arrays 1d\n",
    "A = np.ones(3)\n",
    "print \"A = \\n\", A\n",
    "print \"A.shape =\", A.shape\n",
    "print \"len(A) =\", len(A)\n",
    "B = np.zeros(3)\n",
    "print \"B = \\n\", B\n",
    "print \"B.shape =\", B.shape\n",
    "print \"len(B) =\", len(B)\n",
    "C = np.eye(1,3)\n",
    "print \"C = \\n\", C\n",
    "print \"C.shape =\", C.shape\n",
    "print \"len(C) =\", len(C)\n",
    "# Si queremos forzar la misma forma que A y B\n",
    "C = np.eye(1,3).flatten() # o np.eye(1,3)[0,:] \n",
    "print \"C = \\n\", C\n",
    "print \"C.shape =\", C.shape\n",
    "print \"len(C) =\", len(C)"
   ]
  },
  {
   "cell_type": "code",
   "execution_count": null,
   "metadata": {
    "collapsed": false
   },
   "outputs": [],
   "source": [
    "# square arrays\n",
    "A = np.ones((3,3))\n",
    "print \"A = \\n\", A\n",
    "print \"A.shape =\", A.shape\n",
    "print \"len(A) =\", len(A)\n",
    "B = np.zeros((3,3))\n",
    "print \"B = \\n\", B\n",
    "print \"B.shape =\", B.shape\n",
    "print \"len(B) =\", len(B)\n",
    "C = np.eye(3) # Or  np.eye(3,3)\n",
    "print \"C = \\n\", C\n",
    "print \"C.shape =\", C.shape\n",
    "print \"len(C) =\", len(C)"
   ]
  },
  {
   "cell_type": "code",
   "execution_count": null,
   "metadata": {
    "collapsed": false
   },
   "outputs": [],
   "source": [
    "# fat 2d array\n",
    "A = np.ones((2,5))\n",
    "print \"A = \\n\", A\n",
    "print \"A.shape =\", A.shape\n",
    "print \"len(A) =\", len(A)\n",
    "B = np.zeros((2,5))\n",
    "print \"B = \\n\", B\n",
    "print \"B.shape =\", B.shape\n",
    "print \"len(B) =\", len(B)\n",
    "C = np.eye(2,5)\n",
    "print \"C = \\n\", C\n",
    "print \"C.shape =\", C.shape\n",
    "print \"len(C) =\", len(C)"
   ]
  },
  {
   "cell_type": "markdown",
   "metadata": {},
   "source": [
    "#### 2. Librería Numpy\n",
    "## 2.2 Funciones Básicas\n",
    "\n",
    "Algunas funciones básicas que es conveniente conocer son las siguientes:\n",
    "* **reshape**: Convierte arreglo a nueva forma. Numero de elementos debe ser el mismo.\n",
    "* **linspace**: Regresa un arreglo con valores linealmente espaciados.\n",
    "* **diag(x)**: Si x es 1D, regresa array 2D con valores en diagonal. Si x es 2D, regresa valores en la diagonal.\n",
    "* **sum**: Suma los valores del arreglo. Puede hacerse en general o a lo largo de un axis.\n",
    "* **mean**: Calcula el promedio de los valores del arreglo. Puede hacerse en general o a lo largo de un axis.\n",
    "* **std**: Calcula la desviación estándar de los valores del arreglo. Puede hacerse en general o a lo largo de un axis."
   ]
  },
  {
   "cell_type": "code",
   "execution_count": null,
   "metadata": {
    "collapsed": false
   },
   "outputs": [],
   "source": [
    "x = np.linspace(0., 1., 6)\n",
    "A = x.reshape(3,2)\n",
    "print \"x = \\n\", x\n",
    "print \"A = \\n\", A\n",
    "\n",
    "print \"np.diag(x) = \\n\", np.diag(x)\n",
    "print \"np.diag(B) = \\n\", np.diag(A)\n",
    "\n",
    "print \"\"\n",
    "print \"A.sum() = \", A.sum()\n",
    "print \"A.sum(axis=0) = \", A.sum(axis=0)\n",
    "print \"A.sum(axis=1) = \", A.sum(axis=1)\n",
    "\n",
    "print \"\"\n",
    "print \"A.mean() = \", A.mean()\n",
    "print \"A.mean(axis=0) = \", A.mean(axis=0)\n",
    "print \"A.mean(axis=1) = \", A.mean(axis=1)\n",
    "\n",
    "print \"\"\n",
    "print \"A.std() = \", A.std()\n",
    "print \"A.std(axis=0) = \", A.std(axis=0)\n",
    "print \"A.std(axis=1) = \", A.std(axis=1)"
   ]
  },
  {
   "cell_type": "markdown",
   "metadata": {},
   "source": [
    "# Desafío 3\n",
    "\n",
    "Complete el siguiente código:\n",
    "* Se le provee un array A cuadrado\n",
    "* Calcule un array B como la multiplicación element-wise de A por sí misma.\n",
    "* Calcule un array C como la multiplicación matricial de A y B.\n",
    "* Imprima la matriz C resultante.\n",
    "* Calcule la suma, promedio y desviación estándar de los valores en la diagonal de C.\n",
    "* Imprima los valores anteriormente calculados."
   ]
  },
  {
   "cell_type": "code",
   "execution_count": null,
   "metadata": {
    "collapsed": false
   },
   "outputs": [],
   "source": [
    "A = np.outer(np.arange(3),np.arange(3))\n",
    "print A\n",
    "# FIX ME\n",
    "# FIX ME\n",
    "# FIX ME\n",
    "# FIX ME\n",
    "# FIX ME"
   ]
  },
  {
   "cell_type": "markdown",
   "metadata": {},
   "source": [
    "## Desafío 4\n",
    "Implemente la regla de [integración trapezoidal](https://en.wikipedia.org/wiki/Trapezoidal_rule)"
   ]
  },
  {
   "cell_type": "code",
   "execution_count": null,
   "metadata": {
    "collapsed": false
   },
   "outputs": [],
   "source": [
    "def mi_funcion(x):\n",
    "    f = 1 + x + x**3 + x**5 + np.sin(x)\n",
    "    return f\n",
    "\n",
    "N = 5\n",
    "x = np.linspace(-1,1,N)\n",
    "y = mi_funcion(x)\n",
    "# FIX ME\n",
    "I = 0 # FIX ME\n",
    "# FIX ME\n",
    "print \"Area bajo la curva: %.3f\" %I\n",
    "\n",
    "# Ilustración gráfica\n",
    "x_aux = np.linspace(x.min(),x.max(),N**2)\n",
    "fig = plt.figure(figsize=(12,8))\n",
    "fig.gca().fill_between(x, 0, y, alpha=0.25)\n",
    "plt.plot(x_aux, mi_funcion(x_aux), 'k')\n",
    "plt.plot(x, y, 'r.-')\n",
    "plt.show()"
   ]
  },
  {
   "cell_type": "markdown",
   "metadata": {},
   "source": [
    "#### 2. Librería Numpy\n",
    "## 2.5 Inputs y Outputs\n",
    "\n",
    "Numpy permite leer datos en formato array con la función **loadtxt**. Existen variados argumentos opcionales, pero los mas importantes son:\n",
    "* **skiprows**: permite saltarse lineas en la lectura.\n",
    "* **dtype**: declarar que tipo de dato tendra el array resultante"
   ]
  },
  {
   "cell_type": "code",
   "execution_count": null,
   "metadata": {
    "collapsed": false
   },
   "outputs": [],
   "source": [
    "# Ejemplo de lectura de datos\n",
    "data = np.loadtxt(\"data/cherry.txt\")\n",
    "print data.shape\n",
    "print data"
   ]
  },
  {
   "cell_type": "code",
   "execution_count": null,
   "metadata": {
    "collapsed": false
   },
   "outputs": [],
   "source": [
    "# Ejemplo de lectura de datos, saltandose 11 lineas y truncando a enteros\n",
    "data_int = np.loadtxt(\"data/cherry.txt\", skiprows=11).astype(int)\n",
    "print data_int.shape\n",
    "print data_int"
   ]
  },
  {
   "cell_type": "markdown",
   "metadata": {},
   "source": [
    "#### 2. Librería Numpy\n",
    "## 2.5 Inputs y Outputs\n",
    "\n",
    "Numpy permite guardar datos de manera sencilla con la función **savetxt**: siempre debemos dar el nombre del archivo y el array a guardar. \n",
    "\n",
    "Existen variados argumentos opcionales, pero los mas importantes son:\n",
    "* **header**: Línea a escribir como encabezado de los datos\n",
    "* **fmt**: Formato con el cual se guardan los datos (%d para enteros, %.5f para flotantes con 5 decimales, %.3E para notación científica con 3 decimales, etc.)."
   ]
  },
  {
   "cell_type": "code",
   "execution_count": null,
   "metadata": {
    "collapsed": false
   },
   "outputs": [],
   "source": [
    "# Guardando el archivo con un header en español\n",
    "encabezado = \"Diametro Altura Volumen (Valores truncados a numeros enteros)\"\n",
    "np.savetxt(\"data/cherry_int.txt\", data_int, fmt=\"%d\", header=encabezado)"
   ]
  },
  {
   "cell_type": "markdown",
   "metadata": {},
   "source": [
    "Revisemos si el archivo quedó bien escrito. Cambiaremos de **python** a **bash** para utilizar los comandos del terminal:"
   ]
  },
  {
   "cell_type": "code",
   "execution_count": null,
   "metadata": {
    "collapsed": false
   },
   "outputs": [],
   "source": [
    "%%bash \n",
    "cat data/cherry_int.txt"
   ]
  },
  {
   "cell_type": "markdown",
   "metadata": {},
   "source": [
    "# Desafío 5\n",
    "\n",
    "* Lea el archivo data/cherry.txt\n",
    "* Escale la matriz para tener todas las unidades en metros o metros cubicos.\n",
    "* Guarde la matriz en un nuevo archivo data/cherry_mks.txt, con un encabezado apropiado y 2 decimales de precisión para el flotante (pero no en notación científica)."
   ]
  },
  {
   "cell_type": "code",
   "execution_count": null,
   "metadata": {
    "collapsed": true
   },
   "outputs": [],
   "source": [
    "# Leer datos\n",
    "#FIX_ME#\n",
    "\n",
    "# Convertir a mks\n",
    "#FIX_ME#\n",
    "\n",
    "# Guardar en nuevo archivo\n",
    "#FIX_ME#"
   ]
  },
  {
   "cell_type": "markdown",
   "metadata": {},
   "source": [
    "#### 2. Librería Numpy\n",
    "## 2.6 Selecciones de datos\n",
    "\n",
    "Existen 2 formas de seleccionar datos en un array A:\n",
    "* Utilizar máscaras de datos, que corresponden a un array con las mismas dimensiones del array A, pero de tipo booleano. Todos aquellos elementos True del array de la mascara serán seleccionados.\n",
    "* Utilizar un array con valores enteros. Los valores del array indican los valores que desean conservarse. "
   ]
  },
  {
   "cell_type": "markdown",
   "metadata": {},
   "source": [
    "#### 2.6 Máscaras\n",
    "Observe que el array regresado siempre es unidimensional puesto que no es posible garantizar que se mantenga la dimensión original del array."
   ]
  },
  {
   "cell_type": "code",
   "execution_count": null,
   "metadata": {
    "collapsed": false
   },
   "outputs": [],
   "source": [
    "x = np.linspace(0,42,10)\n",
    "print \"x = \", x\n",
    "print \"x.shape = \", x.shape\n",
    "\n",
    "print \"\\n\"\n",
    "mask_x_1 = x>10\n",
    "print \"mask_x_1 = \", mask_x_1\n",
    "print \"x[mask_x_1] = \", x[mask_x_1]\n",
    "print \"x[mask_x_1].shape = \", x[mask_x_1].shape\n",
    "\n",
    "print \"\\n\"\n",
    "mask_x_2 = x > x.mean()\n",
    "print \"mask_x_2 = \", mask_x_2\n",
    "print \"x[mask_x_2] = \", x[mask_x_2]\n",
    "print \"x[mask_x_2].shape = \", x[mask_x_2].shape"
   ]
  },
  {
   "cell_type": "code",
   "execution_count": null,
   "metadata": {
    "collapsed": false
   },
   "outputs": [],
   "source": [
    "A = np.linspace(10,20,12).reshape(3,4)\n",
    "print \"\\n\"\n",
    "print \"A = \", A\n",
    "print \"A.shape = \", A.shape\n",
    "\n",
    "print \"\\n\"\n",
    "mask_A_1 = A>13\n",
    "print \"mask_A_1 = \", mask_A_1\n",
    "print \"A[mask_A_1] = \", A[mask_A_1]\n",
    "print \"A[mask_A_1].shape = \", A[mask_A_1].shape\n",
    "\n",
    "print \"\\n\"\n",
    "mask_A_2 = A > 0.5*(A.min()+A.max())\n",
    "print \"mask_A_2 = \", mask_A_2\n",
    "print \"A[mask_A_2] = \", A[mask_A_2]\n",
    "print \"A[mask_A_2].shape = \", A[mask_A_2].shape"
   ]
  },
  {
   "cell_type": "code",
   "execution_count": null,
   "metadata": {
    "collapsed": false
   },
   "outputs": [],
   "source": [
    "T = np.linspace(-100,100,24).reshape(2,3,4)\n",
    "print \"\\n\"\n",
    "print \"T = \", T\n",
    "print \"T.shape = \", T.shape\n",
    "\n",
    "print \"\\n\"\n",
    "mask_T_1 = T>=0\n",
    "print \"mask_T_1 = \", mask_T_1\n",
    "print \"T[mask_T_1] = \", T[mask_T_1]\n",
    "print \"T[mask_T_1].shape = \", T[mask_T_1].shape\n",
    "\n",
    "print \"\\n\"\n",
    "mask_T_2 =  1 - T + 2*T**2 < 0.1*T**3\n",
    "print \"mask_T_2 = \", mask_T_2\n",
    "print \"T[mask_T_2] = \", T[mask_T_2]\n",
    "print \"T[mask_T_2].shape = \", T[mask_T_2].shape"
   ]
  },
  {
   "cell_type": "markdown",
   "metadata": {},
   "source": [
    "#### 2.6 Índices\n",
    "Observe que es posible repetir índices, por lo que el array obtenido puede tener más elementos que el array original.\n",
    "\n",
    "En un arreglo 2d, es necesario pasar 2 arrays, el primero para las filas y el segundo para las columnas."
   ]
  },
  {
   "cell_type": "code",
   "execution_count": null,
   "metadata": {
    "collapsed": false
   },
   "outputs": [],
   "source": [
    "x = np.linspace(10,20,11)\n",
    "print \"x = \", x\n",
    "print \"x.shape = \", x.shape\n",
    "\n",
    "print \"\\n\"\n",
    "ind_x_1 = np.array([1,2,3,5,7])\n",
    "print \"ind_x_1 = \", ind_x_1\n",
    "print \"x[ind_x_1] = \", x[ind_x_1]\n",
    "print \"x[ind_x_1].shape = \", x[ind_x_1].shape\n",
    "\n",
    "print \"\\n\"\n",
    "ind_x_2 = np.array([0,0,1,2,3,4,5,6,7,-3,-2,-1,-1])\n",
    "print \"ind_x_2 = \", ind_x_2\n",
    "print \"x[ind_x_2] = \", x[ind_x_2]\n",
    "print \"x[ind_x_2].shape = \", x[ind_x_2].shape"
   ]
  },
  {
   "cell_type": "code",
   "execution_count": null,
   "metadata": {
    "collapsed": false
   },
   "outputs": [],
   "source": [
    "A = np.linspace(-90,90,10).reshape(2,5)\n",
    "print \"A = \", A\n",
    "print \"A.shape = \", A.shape\n",
    "\n",
    "print \"\\n\"\n",
    "ind_row_A_1 = np.array([0,0,0,1,1])\n",
    "ind_col_A_1 = np.array([0,2,4,1,3])\n",
    "print \"ind_row_A_1 = \", ind_row_A_1\n",
    "print \"ind_col_A_1 = \", ind_col_A_1\n",
    "print \"A[ind_row_A_1,ind_col_A_1] = \", A[ind_row_A_1,ind_col_A_1]\n",
    "print \"A[ind_row_A_1,ind_col_A_1].shape = \", A[ind_row_A_1,ind_col_A_1].shape\n",
    "\n",
    "print \"\\n\"\n",
    "ind_row_A_2 = 1\n",
    "ind_col_A_2 = np.array([0,1,3])\n",
    "print \"ind_row_A_2 = \", ind_row_A_2\n",
    "print \"ind_col_A_2 = \", ind_col_A_2\n",
    "print \"A[ind_row_A_2,ind_col_A_2] = \", A[ind_row_A_2,ind_col_A_2]\n",
    "print \"A[ind_row_A_2,ind_col_A_2].shape = \", A[ind_row_A_2,ind_col_A_2].shape"
   ]
  },
  {
   "cell_type": "markdown",
   "metadata": {},
   "source": [
    "# Desafío 6\n",
    "\n",
    "La potencia de un aerogenerador, para $k$ una constante relacionada con la geometría y la eficiencia, $\\rho$ la densidad del are, $r$ el radio del aerogenerador en metros y $v$ la velocidad el viento en metros por segundo, está dada por: \n",
    "$$ P = \\begin{cases} k \\ \\rho \\ r^2 \\ v^3, 3 \\leq v \\leq 25\\\\ 0,\\ eoc\\end{cases}$$\n",
    "Típicamente se considera una valor de $k=0.8$ y una densidad del aire de $\\rho = 1.2$ [$kg/m^3$].\n",
    "\n",
    "Calcule el número de aerogeneradores activos, la potencia promedio y la potencia total generada por los 11 generadores del parque Eólico Canela 1.\n",
    "\n",
    "Los valores de radio del aerogenerador (en metros) y la velocidad del viento (en kilometros por hora) se indican a continuación en arreglos en el código numérico."
   ]
  },
  {
   "cell_type": "code",
   "execution_count": null,
   "metadata": {
    "collapsed": false
   },
   "outputs": [],
   "source": [
    "import numpy as np\n",
    "k = 0.8\n",
    "rho = 1.2 # \n",
    "r_m = np.array([ 25.,  25.,  25.,  25.,  25.,  25.,  20.,  20.,  20.,  20.,  20.])\n",
    "v_kmh = np.array([10.4, 12.6,  9.7,  7.2, 12.3, 10.8, 12.9, 13.0,  8.6, 12.6, 11.2]) # En kilometros por hora\n",
    "P = 0 \n",
    "n_activos = 0\n",
    "P_mean = 0.0\n",
    "P_total =  0.0\n",
    "print \"Existen %d aerogeneradores activos del total de %d\" %(n_activos, r.shape[0])\n",
    "print \"La potencia promedio de los aeorgeneradores es {0:.2f} \".format(P_mean) \n",
    "print \"La potencia promedio de los aeorgeneradores es \" + str(P_total) "
   ]
  },
  {
   "cell_type": "markdown",
   "metadata": {},
   "source": [
    "## Tips\n",
    "* La práctica y la necesidad hace al maestro.\n",
    "\n",
    "* Preguntar: en línea y en persona, pero tratar de solucionar los problemas antes.\n",
    "\n",
    "## Enlaces útiles:\n",
    "* http://www.labri.fr/perso/nrougier/teaching/numpy.100/ : Lista con 100 recetas prácticas.s\n",
    "* http://sebastianraschka.com/Articles/2014_matlab_vs_numpy.html : Desde matlab a numpy.\n",
    "* http://pages.physics.cornell.edu/~myers/teaching/ComputationalMethods/python/arrays.html : Otros consejos."
   ]
  }
 ],
 "metadata": {
  "celltoolbar": "Slideshow",
  "kernelspec": {
   "display_name": "Python 3",
   "language": "python",
   "name": "python3"
  },
  "language_info": {
   "codemirror_mode": {
    "name": "ipython",
    "version": 3
   },
   "file_extension": ".py",
   "mimetype": "text/x-python",
   "name": "python",
   "nbconvert_exporter": "python",
   "pygments_lexer": "ipython3",
   "version": "3.4.0"
  }
 },
 "nbformat": 4,
 "nbformat_minor": 0
}
