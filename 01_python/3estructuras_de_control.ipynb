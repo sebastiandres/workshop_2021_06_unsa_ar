{
 "cells": [
  {
   "cell_type": "markdown",
   "metadata": {
    "slideshow": {
     "slide_type": "slide"
    }
   },
   "source": [
    "<img src=\"images/utfsm.png\" alt=\"\" width=\"200px\" align=\"right\"/>\n",
    "# USM Numérica\n",
    "## Tema del Notebook\n",
    "### Objetivos\n",
    "1. Primero objetivo del Notebook\n",
    "2. Segundo objetivo del Notebook"
   ]
  },
  {
   "cell_type": "markdown",
   "metadata": {
    "slideshow": {
     "slide_type": "slide"
    }
   },
   "source": [
    "## 0.1 Instrucciones\n",
    "Las instrucciones de instalación y uso de un ipython notebook se encuentran en el siguiente [link](link).\n",
    "\n",
    "Después de descargar y abrir el presente notebook, recuerden:\n",
    "* Desarrollar los problemas de manera secuencial.\n",
    "* Guardar constantemente con *`Ctr-S`* para evitar sorpresas.\n",
    "* Reemplazar en las celdas de código donde diga *`FIX_ME`* por el código correspondiente.\n",
    "* Ejecutar cada celda de código utilizando *`Ctr-Enter`*\n",
    "\n",
    "## 0.2 Licenciamiento y Configuración\n",
    "Ejecutar la siguiente celda mediante *`Ctr-Enter`*."
   ]
  },
  {
   "cell_type": "code",
   "execution_count": 1,
   "metadata": {
    "collapsed": false
   },
   "outputs": [
    {
     "data": {
      "text/html": [
       "<style>\n",
       "\n",
       "/*********************************************\n",
       " * CHANGE CURSIVE FOR RED\n",
       " *********************************************/\n",
       "em {font-style: normal !important;\n",
       "    color: #800000;}\n",
       "\n",
       "</style>\n"
      ],
      "text/plain": [
       "<IPython.core.display.HTML object>"
      ]
     },
     "execution_count": 1,
     "metadata": {},
     "output_type": "execute_result"
    }
   ],
   "source": [
    "\"\"\"\n",
    "IPython Notebook v4.0 para python 3.0\n",
    "Librerías adicionales: numpy, scipy, matplotlib. (EDITAR EN FUNCION DEL NOTEBOOK!!!)\n",
    "Contenido bajo licencia CC-BY 4.0. Código bajo licencia MIT. \n",
    "(c) Sebastian Flores, Christopher Cooper, Alberto Rubio, Pablo Bunout.\n",
    "\"\"\"\n",
    "# Configuración para recargar módulos y librerías dinámicamente\n",
    "%reload_ext autoreload\n",
    "%autoreload 2\n",
    "\n",
    "# Configuración para graficos en línea\n",
    "%matplotlib inline\n",
    "\n",
    "# Configuración de estilo\n",
    "from IPython.core.display import HTML\n",
    "HTML(open(\"./style/style.css\", \"r\").read())"
   ]
  },
  {
   "cell_type": "markdown",
   "metadata": {},
   "source": [
    "## 1. Archivos\n",
    "\n",
    "Los archivos de los laboratorios deben tener la siguiente estructura:\n",
    "1. Archivo `.ipynb` de extensión ipython notebook, para python 3. Nombre varía de laboratorio a laboratorio.\n",
    "1. Carpeta `code/` que contiene los códigos del laboratorio. Varía de laboratorio a laboratorio, pero debe tener `__init__.py` y `lab.py`.\n",
    "1. Carpeta `data/` (opcional) que contiene los archivos de datos a utilizar en el laboratorio.\n",
    "1. Carpeta `images/` que contiene las imágenes del laboratorio. Varía de laboratorio a laboratorio, pero debería al menos contener `utfsm.png`.\n",
    "1. Carpeta `style/` que contiene el archivo `lab.css` con el estilo predefinido y común a los laboratorios."
   ]
  },
  {
   "cell_type": "markdown",
   "metadata": {},
   "source": [
    "## 2 Uso de ipython notebook\n",
    "Los siguientes son ejemplos de acciones comunes en ipython notebook"
   ]
  },
  {
   "cell_type": "code",
   "execution_count": null,
   "metadata": {
    "collapsed": true
   },
   "outputs": [],
   "source": [
    "import numpy as np\n",
    "from matplotlib import pyplot as plt"
   ]
  },
  {
   "cell_type": "code",
   "execution_count": null,
   "metadata": {
    "collapsed": false
   },
   "outputs": [],
   "source": [
    "# Presionar tabulación con el cursor despues de np.arr\n",
    "np.arr"
   ]
  },
  {
   "cell_type": "code",
   "execution_count": null,
   "metadata": {
    "collapsed": false
   },
   "outputs": [],
   "source": [
    "# Presionar Ctr-Enter para obtener la documentacion de la funcion np.array usando \"?\"\n",
    "np.array?"
   ]
  },
  {
   "cell_type": "code",
   "execution_count": null,
   "metadata": {
    "collapsed": false
   },
   "outputs": [],
   "source": [
    "# Presionar Ctr-Enter\n",
    "%whos"
   ]
  },
  {
   "cell_type": "code",
   "execution_count": null,
   "metadata": {
    "collapsed": false
   },
   "outputs": [],
   "source": [
    "x = 10\n",
    "%whos"
   ]
  },
  {
   "cell_type": "markdown",
   "metadata": {},
   "source": [
    "## Tipos de letras\n",
    "Se tienen los siguientes tipos de letras, gentileza del markdown y estilo lab.css:\n",
    "1. *emphasis*\n",
    "2. **strong**\n",
    "3. ***strong and emphasis***\n",
    "4. `code`\n",
    "5. *`code and emphasis`*\n",
    "6. **`code and strong`**\n",
    "7. ***`code, strong and emphasis`***.\n",
    "8. Código en python\n",
    "```Python\n",
    "    for i in range(n):\n",
    "        print(i)\n",
    "```\n",
    "9. Código en bash\n",
    "```Bash\n",
    "echo \"hola\"\n",
    "```"
   ]
  },
  {
   "cell_type": "markdown",
   "metadata": {},
   "source": [
    "## Desafío 1 (10%)\n",
    "Después de pasar un contenido, es importante realizar una evaluación mediante algún problema o desafío. Indicar el porcentaje asociado a la evaluación.\n",
    "\n",
    "Por ejemplo, aquí se requiere implementar la regla de cuadratura (integración) trapezoidal."
   ]
  },
  {
   "cell_type": "code",
   "execution_count": null,
   "metadata": {
    "collapsed": false
   },
   "outputs": [],
   "source": [
    "def mi_funcion(x):\n",
    "    f = 1 + x + x**3 + x**5 + np.sin(x)\n",
    "    return f\n",
    "\n",
    "N = 5\n",
    "x = np.linspace(-1,1,N)\n",
    "y = mi_funcion(x)\n",
    "# FIX ME\n",
    "I = 0 # FIX ME\n",
    "# FIX ME\n",
    "print(\"Area bajo la curva: %.3f\" %I)\n",
    "\n",
    "# Ilustración gráfica\n",
    "x_aux = np.linspace(x.min(),x.max(),N**2)\n",
    "fig = plt.figure(figsize=(12,8))\n",
    "fig.gca().fill_between(x, 0, y, alpha=0.25)\n",
    "plt.plot(x_aux, mi_funcion(x_aux), 'k')\n",
    "plt.plot(x, y, 'r.-')\n",
    "plt.show()"
   ]
  }
 ],
 "metadata": {
  "kernelspec": {
   "display_name": "Python 2",
   "language": "python",
   "name": "python2"
  },
  "language_info": {
   "codemirror_mode": {
    "name": "ipython",
    "version": 2
   },
   "file_extension": ".py",
   "mimetype": "text/x-python",
   "name": "python",
   "nbconvert_exporter": "python",
   "pygments_lexer": "ipython2",
   "version": "2.7.6"
  }
 },
 "nbformat": 4,
 "nbformat_minor": 0
}
