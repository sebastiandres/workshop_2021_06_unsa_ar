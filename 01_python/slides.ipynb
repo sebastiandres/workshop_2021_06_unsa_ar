{
 "cells": [
  {
   "cell_type": "code",
   "execution_count": 1,
   "metadata": {
    "slideshow": {
     "slide_type": "skip"
    }
   },
   "outputs": [],
   "source": [
    "\"\"\"\n",
    "Librerías adicionales: Ninguna.\n",
    "Contenido bajo licencia CC-BY 4.0. Código bajo licencia MIT. (c) Sebastian Flores.\n",
    "\"\"\"\n",
    "\n",
    "# Configuracion para recargar módulos y librerías \n",
    "%reload_ext autoreload\n",
    "%autoreload 2"
   ]
  },
  {
   "cell_type": "markdown",
   "metadata": {
    "slideshow": {
     "slide_type": "slide"
    }
   },
   "source": [
    "# Python Científico\n",
    "## Unidad 01 - Introducción a Python\n",
    "\n",
    "### Sebastián Flores\n",
    "\n",
    "https://linktr.ee/sebastiandres "
   ]
  },
  {
   "cell_type": "markdown",
   "metadata": {
    "slideshow": {
     "slide_type": "slide"
    }
   },
   "source": [
    "## ¿Qué contenido aprenderemos?\n",
    "\n",
    " * Asignaciones y expresiones \n",
    " * Entrada y salida de datos\n",
    " * Tipos de datos básicos"
   ]
  },
  {
   "cell_type": "markdown",
   "metadata": {
    "slideshow": {
     "slide_type": "slide"
    }
   },
   "source": [
    "## ¿Porqué aprenderemos ese contenido?\n",
    "* Interacción con programa requiere ingresar datos, realizar cálculos y regresar una solución.\n",
    "* Para programar necesitamos conocer **extremadamente bien** los tipos de datos básicos.\n",
    "* Con la clase de hoy ya podremos hacer programas **útiles** que calculan cosas. "
   ]
  },
  {
   "cell_type": "markdown",
   "metadata": {
    "slideshow": {
     "slide_type": "slide"
    }
   },
   "source": [
    "## Misión de la clase\n",
    "\n",
    "### Problema:\n",
    "Escriba un programa que reciba una temperatura en grados\n",
    "Fahrenheit y entregue como resultado el equivalente en grados\n",
    "Celsius.\n",
    "\n",
    "### Caso de prueba\n",
    "* Temperatura en Fahrenheit: 95\n",
    "* Temperatura equivalente en Celsius: 35\n"
   ]
  },
  {
   "cell_type": "markdown",
   "metadata": {
    "slideshow": {
     "slide_type": "slide"
    }
   },
   "source": [
    "## Tipos de Datos\n",
    "### Enteros\n",
    "..., -3, -2, -1, 0, 1, 2, 3, ...\n",
    "### Reales\n",
    "..., -3.14, ..., 0.0, ..., 1E-8, ..., 1.0, ..., 1e8, ...   \n",
    "### Lógicos\n",
    "True, False\n",
    "### Texto\n",
    "\"abracadabra\", 'Universidad Técnica Federico Santa Maria', \"etcétera\", ...\n"
   ]
  },
  {
   "cell_type": "markdown",
   "metadata": {
    "slideshow": {
     "slide_type": "slide"
    }
   },
   "source": [
    "# 1-Asignación y Expresión\n",
    "\n",
    "Bloques con los cuales se asignan valores a las variables"
   ]
  },
  {
   "cell_type": "markdown",
   "metadata": {
    "slideshow": {
     "slide_type": "slide"
    }
   },
   "source": [
    "## 1.1 Asignación\n",
    "\n",
    "* Correspondencia entre una variable y un valor.\n",
    "* Nombre de variable siempre en la izquierda. \n",
    "* Valor que toma siempre en la derecha.\n",
    "### Ejemplos"
   ]
  },
  {
   "cell_type": "code",
   "execution_count": null,
   "metadata": {
    "collapsed": true
   },
   "outputs": [],
   "source": [
    "x = 1\n",
    "x = 1.0\n",
    "x = True\n",
    "x = \"True\""
   ]
  },
  {
   "cell_type": "markdown",
   "metadata": {
    "slideshow": {
     "slide_type": "slide"
    }
   },
   "source": [
    "## 1.2 Expresión\n",
    "\n",
    "Combinación de valores y operaciones que al ser evaluados entregan un resultado.\n",
    "\n",
    "### Ejemplos"
   ]
  },
  {
   "cell_type": "code",
   "execution_count": 2,
   "metadata": {},
   "outputs": [
    {
     "data": {
      "text/plain": [
       "9.0"
      ]
     },
     "execution_count": 2,
     "metadata": {},
     "output_type": "execute_result"
    }
   ],
   "source": [
    "(1.0 + 2.0)*3"
   ]
  },
  {
   "cell_type": "code",
   "execution_count": 5,
   "metadata": {},
   "outputs": [
    {
     "data": {
      "text/plain": [
       "True"
      ]
     },
     "execution_count": 5,
     "metadata": {},
     "output_type": "execute_result"
    }
   ],
   "source": [
    "(100>0) and (1./3<1./2)"
   ]
  },
  {
   "cell_type": "markdown",
   "metadata": {
    "slideshow": {
     "slide_type": "slide"
    }
   },
   "source": [
    "## Asignación\n",
    "\n",
    "Típicamente la asignación de valores toma 2 formas:\n",
    "* Inicialización:"
   ]
  },
  {
   "cell_type": "code",
   "execution_count": 9,
   "metadata": {},
   "outputs": [],
   "source": [
    "a = 3\n",
    "b = 4"
   ]
  },
  {
   "cell_type": "markdown",
   "metadata": {},
   "source": [
    "* Cálculo de expresión y luego asignación:"
   ]
  },
  {
   "cell_type": "code",
   "execution_count": 10,
   "metadata": {},
   "outputs": [],
   "source": [
    "c = (a**2 + b**2)**0.5"
   ]
  },
  {
   "cell_type": "code",
   "execution_count": 11,
   "metadata": {},
   "outputs": [],
   "source": [
    "peri = a + b + c"
   ]
  },
  {
   "cell_type": "markdown",
   "metadata": {
    "slideshow": {
     "slide_type": "slide"
    }
   },
   "source": [
    "## Asignación\n",
    "¿Que valores tienen a, b y c al final del programa?\n"
   ]
  },
  {
   "cell_type": "code",
   "execution_count": 12,
   "metadata": {},
   "outputs": [
    {
     "name": "stdout",
     "output_type": "stream",
     "text": [
      "2 1 2\n"
     ]
    }
   ],
   "source": [
    "a = 1\n",
    "b = a\n",
    "c = a + b\n",
    "a = c\n",
    "print a, b, c"
   ]
  },
  {
   "cell_type": "markdown",
   "metadata": {
    "slideshow": {
     "slide_type": "slide"
    }
   },
   "source": [
    "# 2- Input y Output\n",
    "* Entrada de datos\n",
    "* Salida de datos\n"
   ]
  },
  {
   "cell_type": "markdown",
   "metadata": {
    "slideshow": {
     "slide_type": "slide"
    }
   },
   "source": [
    "## 2.1 Entrada de datos\n",
    "* Utilizar la función **raw_input(texto)** para imprimir el **texto** en pantalla y esperar que el usuario ingrese un valor.\n",
    "* La función **raw_input** siempre devuelve un string. \n",
    "* Para poder utilizar el valor es necesario convertir al tipo de dato requerido."
   ]
  },
  {
   "cell_type": "code",
   "execution_count": 13,
   "metadata": {
    "slideshow": {
     "slide_type": "fragment"
    }
   },
   "outputs": [
    {
     "name": "stdout",
     "output_type": "stream",
     "text": [
      "Ingrese su nombre: felipe kanzua\n",
      "Ingrese su edad [años]: 18\n",
      "Ingrese su peso [kg]: 1.8\n"
     ]
    }
   ],
   "source": [
    "nombre = raw_input(\"Ingrese su nombre: \")\n",
    "edad = int(raw_input(\"Ingrese su edad [años]: \"))\n",
    "altura = float(raw_input(\"Ingrese su peso [kg]: \"))"
   ]
  },
  {
   "cell_type": "markdown",
   "metadata": {
    "slideshow": {
     "slide_type": "slide"
    }
   },
   "source": [
    "## 2.2 Salida de datos\n",
    "\n",
    "* Para imprimir valores en pantalla utilizamos la función **print**.\n",
    "* La función **print** acepta cualquier tipo básico\n",
    "* Es posible incluso encadenar datos conocidos utilizando la coma"
   ]
  },
  {
   "cell_type": "code",
   "execution_count": 14,
   "metadata": {},
   "outputs": [
    {
     "name": "stdout",
     "output_type": "stream",
     "text": [
      "felipe kanzua\n",
      "18\n",
      "1.8\n",
      "felipe kanzua 18 1.8\n",
      "Hola felipe kanzua tienes 18 años y mides 1.8 metros\n"
     ]
    }
   ],
   "source": [
    "print nombre\n",
    "print edad\n",
    "print altura\n",
    "print nombre, edad, altura\n",
    "print \"Hola\", nombre, \"tienes\", edad, \"años y mides\", altura , \"metros\""
   ]
  },
  {
   "cell_type": "markdown",
   "metadata": {
    "slideshow": {
     "slide_type": "slide"
    }
   },
   "source": [
    "## Ejemplo con entrada y salida de datos\n",
    "Preguntar el lado de un cuadrado y calcular el perímetro."
   ]
  },
  {
   "cell_type": "code",
   "execution_count": 19,
   "metadata": {},
   "outputs": [
    {
     "name": "stdout",
     "output_type": "stream",
     "text": [
      "Ingrese el lado de un cuadrado: four\n"
     ]
    },
    {
     "ename": "ValueError",
     "evalue": "could not convert string to float: four",
     "output_type": "error",
     "traceback": [
      "\u001b[1;31m---------------------------------------------------------------------------\u001b[0m",
      "\u001b[1;31mValueError\u001b[0m                                Traceback (most recent call last)",
      "\u001b[1;32m<ipython-input-19-a1f577144390>\u001b[0m in \u001b[0;36m<module>\u001b[1;34m()\u001b[0m\n\u001b[0;32m      1\u001b[0m \u001b[1;31m# Entrada de datos\u001b[0m\u001b[1;33m\u001b[0m\u001b[1;33m\u001b[0m\u001b[0m\n\u001b[1;32m----> 2\u001b[1;33m \u001b[0ma\u001b[0m \u001b[1;33m=\u001b[0m \u001b[0mfloat\u001b[0m\u001b[1;33m(\u001b[0m\u001b[0mraw_input\u001b[0m\u001b[1;33m(\u001b[0m\u001b[1;34m\"Ingrese el lado de un cuadrado: \"\u001b[0m\u001b[1;33m)\u001b[0m\u001b[1;33m)\u001b[0m\u001b[1;33m\u001b[0m\u001b[0m\n\u001b[0m\u001b[0;32m      3\u001b[0m \u001b[1;31m# Cálculo de la respuesta\u001b[0m\u001b[1;33m\u001b[0m\u001b[1;33m\u001b[0m\u001b[0m\n\u001b[0;32m      4\u001b[0m \u001b[0mperimetro\u001b[0m \u001b[1;33m=\u001b[0m \u001b[0ma\u001b[0m\u001b[1;33m*\u001b[0m\u001b[1;36m4\u001b[0m\u001b[1;33m\u001b[0m\u001b[0m\n\u001b[0;32m      5\u001b[0m \u001b[1;31m# Salida de datos\u001b[0m\u001b[1;33m\u001b[0m\u001b[1;33m\u001b[0m\u001b[0m\n",
      "\u001b[1;31mValueError\u001b[0m: could not convert string to float: four"
     ]
    }
   ],
   "source": [
    "# Entrada de datos\n",
    "a = float(raw_input(\"Ingrese el lado de un cuadrado: \"))\n",
    "# Cálculo de la respuesta\n",
    "perimetro = a*4\n",
    "# Salida de datos\n",
    "print \"El cuadrado de lado \", a, \"tiene perimetro\", perimetro "
   ]
  },
  {
   "cell_type": "markdown",
   "metadata": {
    "slideshow": {
     "slide_type": "slide"
    }
   },
   "source": [
    "# 3- Tipos de Datos\n",
    " * Enteros\n",
    " * Flotantes\n",
    " * Booleanos\n",
    " * Cadenas de Texto"
   ]
  },
  {
   "cell_type": "markdown",
   "metadata": {
    "slideshow": {
     "slide_type": "slide"
    }
   },
   "source": [
    "## 3.1- Tipo de dato entero \n",
    " * Viene del inglés **integer**\n",
    " * Se abrevia como **int**\n",
    " * Ejemplos"
   ]
  },
  {
   "cell_type": "code",
   "execution_count": 20,
   "metadata": {},
   "outputs": [
    {
     "data": {
      "text/plain": [
       "42"
      ]
     },
     "execution_count": 20,
     "metadata": {},
     "output_type": "execute_result"
    }
   ],
   "source": [
    "42"
   ]
  },
  {
   "cell_type": "code",
   "execution_count": 27,
   "metadata": {},
   "outputs": [
    {
     "data": {
      "text/plain": [
       "1237237"
      ]
     },
     "execution_count": 27,
     "metadata": {},
     "output_type": "execute_result"
    }
   ],
   "source": [
    "int(1.237237243E6)"
   ]
  },
  {
   "cell_type": "code",
   "execution_count": 22,
   "metadata": {},
   "outputs": [
    {
     "data": {
      "text/plain": [
       "100000000000000000000000000000000000000000000000000000000000L"
      ]
     },
     "execution_count": 22,
     "metadata": {},
     "output_type": "execute_result"
    }
   ],
   "source": [
    "100000000000000000000000000000000000000000000000000000000000"
   ]
  },
  {
   "cell_type": "markdown",
   "metadata": {
    "slideshow": {
     "slide_type": "slide"
    }
   },
   "source": [
    "#### 3.1 Int\n",
    "## Operaciones en datos enteros\n",
    "\n",
    "Operaciones aritméticas: **siempre regresan un entero**\n",
    " * Suma: +\n",
    " * Resta: -\n",
    " * Multiplicacion: *\n",
    " * División: /\n",
    " * Potenciación: **\n",
    " * Módulo: %"
   ]
  },
  {
   "cell_type": "code",
   "execution_count": 28,
   "metadata": {},
   "outputs": [
    {
     "name": "stdout",
     "output_type": "stream",
     "text": [
      "10\n",
      "999999000\n",
      "100\n",
      "1\n",
      "4\n",
      "1\n"
     ]
    }
   ],
   "source": [
    "print 3+7\n",
    "print 1000000000 - 1000\n",
    "print 10*10\n",
    "print 3/2\n",
    "print 2**2\n",
    "print 19%2"
   ]
  },
  {
   "cell_type": "markdown",
   "metadata": {
    "slideshow": {
     "slide_type": "slide"
    }
   },
   "source": [
    "##  3.2 Tipo de dato real\n",
    "* Se llama real o flotante\n",
    "* En inglés, **float**\n",
    "* En python: **float**\n"
   ]
  },
  {
   "cell_type": "code",
   "execution_count": 29,
   "metadata": {},
   "outputs": [
    {
     "data": {
      "text/plain": [
       "231.45"
      ]
     },
     "execution_count": 29,
     "metadata": {},
     "output_type": "execute_result"
    }
   ],
   "source": [
    "231.45"
   ]
  },
  {
   "cell_type": "code",
   "execution_count": 33,
   "metadata": {},
   "outputs": [
    {
     "data": {
      "text/plain": [
       "1.0"
      ]
     },
     "execution_count": 33,
     "metadata": {},
     "output_type": "execute_result"
    }
   ],
   "source": [
    "float(3/2)"
   ]
  },
  {
   "cell_type": "markdown",
   "metadata": {
    "slideshow": {
     "slide_type": "slide"
    }
   },
   "source": [
    "#### 3.2 Float\n",
    "## Operaciones en datos reales\n",
    "\n",
    "### Operaciones aritméticas: siempre regresan un real\n",
    " * Suma: +\n",
    " * Resta: -\n",
    " * Multiplicacion: *\n",
    " * División: /\n",
    " * Potenciación: **\n",
    " * Módulo: %"
   ]
  },
  {
   "cell_type": "code",
   "execution_count": 34,
   "metadata": {},
   "outputs": [
    {
     "name": "stdout",
     "output_type": "stream",
     "text": [
      "110.0\n",
      "3.04\n",
      "200.0\n",
      "0.1\n",
      "1.21\n",
      "0.3\n"
     ]
    }
   ],
   "source": [
    "print 10.0 + 1e2\n",
    "print 3.14 - 1e-1\n",
    "print 2.0*1e2\n",
    "print 1e-3/0.01\n",
    "print 1.1e0**2.0\n",
    "print 1.23e1%2.0"
   ]
  },
  {
   "cell_type": "markdown",
   "metadata": {
    "slideshow": {
     "slide_type": "slide"
    }
   },
   "source": [
    "## OBSERVACION\n",
    "Operaciones aritméticas entre int y float son posibles, pero el resultado siempre será un **float**."
   ]
  },
  {
   "cell_type": "code",
   "execution_count": 35,
   "metadata": {},
   "outputs": [
    {
     "name": "stdout",
     "output_type": "stream",
     "text": [
      "2.0 2.0\n",
      "0.0 0.0\n",
      "6.0 6.0\n",
      "0.5 0.5\n",
      "8.0 8.0\n",
      "1.0 1.0\n"
     ]
    }
   ],
   "source": [
    "print 1 + 1.0, 1.0 + 1\n",
    "print 1 - 1.0, 1.0 - 1\n",
    "print 2*3.0, 2.0*3\n",
    "print 1./2, 1/2.\n",
    "print 2**3.0, 2.0**3\n",
    "print 15%2.0, 15.0%2"
   ]
  },
  {
   "cell_type": "markdown",
   "metadata": {
    "slideshow": {
     "slide_type": "slide"
    }
   },
   "source": [
    "## 3-Tipos de datos lógico\n",
    " * También se le llama booleano, del inglés **boolean**\n",
    " * Se abrevia como **bool**\n",
    " * Sólo hay 2 tipos: **True** y **False**"
   ]
  },
  {
   "cell_type": "markdown",
   "metadata": {
    "slideshow": {
     "slide_type": "slide"
    }
   },
   "source": [
    "#### 3- Bool\n",
    "## Operaciones para datos booleanos\n",
    " * **Negación** : not\n",
    " * **y**: and\n",
    " * **o** : or"
   ]
  },
  {
   "cell_type": "code",
   "execution_count": 36,
   "metadata": {},
   "outputs": [
    {
     "name": "stdout",
     "output_type": "stream",
     "text": [
      "True\n",
      "False\n",
      "False\n",
      "False\n"
     ]
    }
   ],
   "source": [
    "print True and True\n",
    "print True and False\n",
    "print False and True\n",
    "print False and False"
   ]
  },
  {
   "cell_type": "code",
   "execution_count": 37,
   "metadata": {},
   "outputs": [
    {
     "name": "stdout",
     "output_type": "stream",
     "text": [
      "True\n",
      "True\n",
      "True\n",
      "False\n"
     ]
    }
   ],
   "source": [
    "print True or True\n",
    "print True or False\n",
    "print False or True\n",
    "print False or False"
   ]
  },
  {
   "cell_type": "code",
   "execution_count": 38,
   "metadata": {},
   "outputs": [
    {
     "name": "stdout",
     "output_type": "stream",
     "text": [
      "False\n",
      "True\n"
     ]
    }
   ],
   "source": [
    "print not True\n",
    "print not False"
   ]
  },
  {
   "cell_type": "markdown",
   "metadata": {
    "slideshow": {
     "slide_type": "slide"
    }
   },
   "source": [
    "## Operaciones en datos enteros\n",
    "\n",
    "### Comparaciones de reales o enteros: siempre regresan un booleano\n",
    "* menor o igual : <=\n",
    "* menor : <\n",
    "* igual : =\n",
    "* distinto : !=\n",
    "* mayor : >\n",
    "* mayor o igual :>="
   ]
  },
  {
   "cell_type": "code",
   "execution_count": 47,
   "metadata": {
    "slideshow": {
     "slide_type": "-"
    }
   },
   "outputs": [
    {
     "name": "stdout",
     "output_type": "stream",
     "text": [
      "True\n",
      "False\n",
      "True\n",
      "True\n",
      "True\n"
     ]
    }
   ],
   "source": [
    "a = 10.5\n",
    "print 5<=a<20\n",
    "print int(a)==int(10.9999999999999999999999999999999999999999999)\n",
    "print a!=1E3\n",
    "print a>0 and a**2<200\n",
    "print a<0 or a>0"
   ]
  },
  {
   "cell_type": "markdown",
   "metadata": {
    "slideshow": {
     "slide_type": "slide"
    }
   },
   "source": [
    "## Tipo de dato texto\n",
    "* Texto (también llamado cadena de texto)\n",
    "* En inglés: **string**\n",
    "* En python: **str**"
   ]
  },
  {
   "cell_type": "code",
   "execution_count": null,
   "metadata": {},
   "outputs": [],
   "source": [
    "\"Hola clase\""
   ]
  },
  {
   "cell_type": "code",
   "execution_count": null,
   "metadata": {},
   "outputs": [],
   "source": [
    "'Hola mundo'"
   ]
  },
  {
   "cell_type": "code",
   "execution_count": null,
   "metadata": {},
   "outputs": [],
   "source": [
    "'''Hmm'''"
   ]
  },
  {
   "cell_type": "code",
   "execution_count": null,
   "metadata": {},
   "outputs": [],
   "source": [
    "\"\"\"Hey Jude\"\"\""
   ]
  },
  {
   "cell_type": "markdown",
   "metadata": {
    "slideshow": {
     "slide_type": "slide"
    }
   },
   "source": [
    "## Operaciones en cadenas de texto\n",
    "\n",
    "* Concatenación: str_a **+** str_b\n",
    "  * Regresa un nuevo string concatenando las expresiones str_a y str_b, en ese orden.\n",
    "* Auto-concatenación: str ***** n\n",
    "  * Regresa un nuevo string, contenando n veces el string str.\n",
    "* Número de carácteres: **len**(str)\n",
    "  * Regresa un entero >= 0, con el número de carácteres del string str.\n",
    "* contención: str_a **in** str_b\n",
    "  * Regresa un bool evaluando si el string str_a está completamente contenido en string str_b \n"
   ]
  },
  {
   "cell_type": "code",
   "execution_count": 52,
   "metadata": {},
   "outputs": [
    {
     "name": "stdout",
     "output_type": "stream",
     "text": [
      "hola mundo\n",
      "wakawakaeeo\n",
      "14\n",
      "True\n",
      "False\n"
     ]
    }
   ],
   "source": [
    "print \"hola\" + ' ' + \"mundo\"\n",
    "print \"waka\"*2 + \"eeo\"\n",
    "print len('paralelepipedo')\n",
    "print \"pollo\" in \"repollo\"\n",
    "print \"bcdo\" in \"abcdario\""
   ]
  },
  {
   "cell_type": "markdown",
   "metadata": {
    "slideshow": {
     "slide_type": "slide"
    }
   },
   "source": [
    "## Funciones\n",
    "* Valor absoluto: **abs**(x)\n",
    "  * Regresa el valor absoluto de x (entero o flotante)\n",
    "* Minimo: **min**(x,y)\n",
    "  * Regresa el menor valor entre x e y (enteros o flotantes).\n",
    "* Máximo: **max**(x,y)\n",
    "  * Regresa el mayor valor entre x e y (enteros o flotantes).\n",
    "* Redondear: **round**(x)\n",
    "  * Regresa el flotante correspondiente al entero más cercano a x (flotante o entero).\n",
    "* type: **type**(x):\n",
    "  * Regresa el tipo de dato de x (cualquier cosa)."
   ]
  },
  {
   "cell_type": "code",
   "execution_count": 53,
   "metadata": {},
   "outputs": [
    {
     "name": "stdout",
     "output_type": "stream",
     "text": [
      "9 9.0\n",
      "-1 3.0 10\n",
      "20 200 10\n",
      "1.0 2.0 2.0\n",
      "-1.0 -2.0 -2.0\n"
     ]
    }
   ],
   "source": [
    "# Valor absoluto, para int o float\n",
    "print abs(-4-5), abs(-4.0-5)\n",
    "print min(-1,20), min(3.0, 200), min(10,10.0)\n",
    "print max(-1,20), max(1.0, 200), max(10,10.0)\n",
    "print round(1.49), round(1.50), round(1.51)\n",
    "print round(-1.49), round(-1.50), round(-1.51)"
   ]
  },
  {
   "cell_type": "markdown",
   "metadata": {
    "slideshow": {
     "slide_type": "slide"
    }
   },
   "source": [
    "## Preguntas\n",
    "¿Que regresa cada una de las expresiones siguientes?"
   ]
  },
  {
   "cell_type": "code",
   "execution_count": 55,
   "metadata": {},
   "outputs": [
    {
     "name": "stdout",
     "output_type": "stream",
     "text": [
      "<type 'int'>\n",
      "<type 'float'>\n",
      "<type 'bool'>\n",
      "<type 'str'>\n",
      "<type 'float'>\n",
      "<type 'type'>\n",
      "<type 'float'>\n",
      "Hola\n",
      "mundo\n",
      "\tcruel\n"
     ]
    }
   ],
   "source": [
    "print type(1)\n",
    "print type(1.0)\n",
    "print type(True)\n",
    "print type(\"True\")\n",
    "print type(float(1))\n",
    "print type(type(1))\n",
    "print type(float(int(bool(str(int(float(int(str(0)))))))))\n",
    "print \"Hola\\nmundo\\n\\tcruel\""
   ]
  },
  {
   "cell_type": "markdown",
   "metadata": {
    "slideshow": {
     "slide_type": "slide"
    }
   },
   "source": [
    "## Problema de prueba\n",
    "\n",
    "\n",
    "### Problema:\n",
    "Escriba un programa que reciba una temperatura en grados\n",
    "Fahrenheit y entregue como resultado el equivalente en grados\n",
    "Celsius.\n",
    "\n",
    "### Fórmula de conversión\n",
    "Temperatura en Celsius =  (Temperatura en Fahrenheit - 32) * 5 / 9\n",
    "\n",
    "### Caso de prueba\n",
    " * Temp. en Fahrenheit: 95\n",
    " * El equivalente en Celsius es: 35.0"
   ]
  },
  {
   "cell_type": "markdown",
   "metadata": {
    "slideshow": {
     "slide_type": "slide"
    }
   },
   "source": [
    "## Análisis del caso de prueba\n",
    "\n",
    "* Dato de entrada o Input: \n",
    "  * 95 (int o float)\n",
    "* Dato de salida o Output: \n",
    "  * String con el resultado de la conversión del input"
   ]
  },
  {
   "cell_type": "markdown",
   "metadata": {
    "slideshow": {
     "slide_type": "slide"
    }
   },
   "source": [
    "\n",
    "## Análisis del caso general\n",
    "\n",
    "* Dato de entrada o Input: T_F\n",
    "* Conversión a Celsius: \n",
    "\n",
    "    T_C = (5 / 9) * (T_F -32)\n",
    "\n",
    "o\n",
    "\n",
    "    T_C = (5.0 / 9.0) * (T_F -32) \n",
    "\n",
    "* Dato de salida o Output: String con el resultado de la conversión del input"
   ]
  },
  {
   "cell_type": "markdown",
   "metadata": {
    "slideshow": {
     "slide_type": "slide"
    }
   },
   "source": [
    "## Implementaciones Incorrectas"
   ]
  },
  {
   "cell_type": "code",
   "execution_count": 57,
   "metadata": {
    "slideshow": {
     "slide_type": "-"
    }
   },
   "outputs": [
    {
     "name": "stdout",
     "output_type": "stream",
     "text": [
      "Ingrese temperatura en grados Fahrenheit: 30\n",
      "El equivalente en grados Celsius es:  -0.0\n"
     ]
    }
   ],
   "source": [
    "# Programa de Conversión de Temperatura INCORRECTO\n",
    "f = float(raw_input('Ingrese temperatura en grados Fahrenheit: '))\n",
    "c = 5 / 9 * (f - 32) \n",
    "print 'El equivalente en grados Celsius es: ', c"
   ]
  },
  {
   "cell_type": "code",
   "execution_count": 58,
   "metadata": {
    "slideshow": {
     "slide_type": "-"
    }
   },
   "outputs": [
    {
     "name": "stdout",
     "output_type": "stream",
     "text": [
      "Ingrese temperatura en grados Fahrenheit: 95\n",
      "El equivalente en grados Celsius es:  0.0\n"
     ]
    }
   ],
   "source": [
    "# Programa de Conversión de Temperatura INCORRECTO\n",
    "f = float(raw_input('Ingrese temperatura en grados Fahrenheit: '))\n",
    "c =  (f - 32) * ( 5 / 9 )\n",
    "print 'El equivalente en grados Celsius es: ', c "
   ]
  },
  {
   "cell_type": "markdown",
   "metadata": {
    "slideshow": {
     "slide_type": "slide"
    }
   },
   "source": [
    "## Implementaciones Correctas"
   ]
  },
  {
   "cell_type": "code",
   "execution_count": 59,
   "metadata": {
    "slideshow": {
     "slide_type": "-"
    }
   },
   "outputs": [
    {
     "name": "stdout",
     "output_type": "stream",
     "text": [
      "Ingrese temperatura en grados Fahrenheit:95\n",
      "El equivalente en grados Celsius es:  35.0\n"
     ]
    }
   ],
   "source": [
    "# Programa de Conversión de Temperatura INCORRECTO\n",
    "f = float(raw_input('Ingrese temperatura en grados Fahrenheit:'))\n",
    "c = (f - 32) * 5 / 9 \n",
    "print 'El equivalente en grados Celsius es: ', c "
   ]
  },
  {
   "cell_type": "code",
   "execution_count": 60,
   "metadata": {
    "slideshow": {
     "slide_type": "-"
    }
   },
   "outputs": [
    {
     "name": "stdout",
     "output_type": "stream",
     "text": [
      "Ingrese temperatura en grados Fahrenheit:95\n",
      "El equivalente en grados Celsius es:  35.0\n"
     ]
    }
   ],
   "source": [
    "# Programa de Conversión de Temperatura CORRECTO\n",
    "f = float(raw_input('Ingrese temperatura en grados Fahrenheit:'))\n",
    "c = (f - 32.0) * (5. / 9.)\n",
    "print 'El equivalente en grados Celsius es: ', c "
   ]
  }
 ],
 "metadata": {
  "celltoolbar": "Slideshow",
  "kernelspec": {
   "display_name": "Python 3",
   "language": "python",
   "name": "python3"
  },
  "language_info": {
   "codemirror_mode": {
    "name": "ipython",
    "version": 3
   },
   "file_extension": ".py",
   "mimetype": "text/x-python",
   "name": "python",
   "nbconvert_exporter": "python",
   "pygments_lexer": "ipython3",
   "version": "3.7.4"
  }
 },
 "nbformat": 4,
 "nbformat_minor": 1
}
