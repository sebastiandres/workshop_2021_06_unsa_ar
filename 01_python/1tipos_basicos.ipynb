{
 "cells": [
  {
   "cell_type": "markdown",
   "metadata": {},
   "source": [
    "<img src=\"images/utfsm.png\" alt=\"\" width=\"200px\" align=\"right\"/>\n",
    "# USM Numérica\n",
    "## Introducción a Python\n",
    "\n",
    "### Objetivos\n",
    "1. Conocer y diferencias python y ipython.\n",
    "2. Conocer y utilizar los diferentes tipos de datos en Python junto con sus operatorias."
   ]
  },
  {
   "cell_type": "markdown",
   "metadata": {},
   "source": [
    "## 0.1 Instrucciones\n",
    "Instrucciones de [instalación](https://github.com/usantamaria/ipynb_para_docencia/wiki/Instalacion) y [utilización](https://github.com/usantamaria/ipynb_para_docencia/wiki/Utilizacion) de un ipython notebook.\n",
    "\n",
    "Recuerden:\n",
    "* Desarrollar los problemas de manera secuencial.\n",
    "* Guardar constantemente con *`Ctr-S`* para evitar sorpresas.\n",
    "* Reemplazar en las celdas de código donde diga *`FIX_ME`* por el código correspondiente.\n",
    "* Ejecutar cada celda de código utilizando *`Ctr-Enter`*\n",
    "\n",
    "## 0.2 Licenciamiento y Configuración\n",
    "Ejecutar la siguiente celda mediante *`Ctr-Enter`*."
   ]
  },
  {
   "cell_type": "code",
   "execution_count": null,
   "metadata": {
    "collapsed": false
   },
   "outputs": [],
   "source": [
    "\"\"\"\n",
    "IPython Notebook v4.0 para python 3.0\n",
    "Librerías adicionales: \n",
    "Contenido bajo licencia CC-BY 4.0. Código bajo licencia MIT. \n",
    "(c) Sebastian Flores, Christopher Cooper, Alberto Rubio, Pablo Bunout.\n",
    "\"\"\"\n",
    "# Configuración para recargar módulos y librerías dinámicamente\n",
    "%reload_ext autoreload\n",
    "%autoreload 2\n",
    "\n",
    "# Configuración para graficos en línea\n",
    "%matplotlib inline\n",
    "\n",
    "# Configuración de estilo\n",
    "from IPython.core.display import HTML\n",
    "HTML(open(\"./style/style.css\", \"r\").read())"
   ]
  },
  {
   "cell_type": "markdown",
   "metadata": {},
   "source": [
    "### 1. ¿Qué es python y ipython?\n",
    "* **Python** es un lenguaje de programación de alto nivel, poderoso y fácil de aprender para nuevos usuarios. Posee un enfoque simple pero efectivo hacia la programación orientada a objetos.\n",
    "* En comparación con otros lenguajes de programación lo distinguen las siguientes ventajas:\n",
    "  * Ofrece en general mayor chequeo de errores que otros lenguajes, por ejemplo C.\n",
    "  * Es un lenguaje de programación interpretado por lo que no requiere de compilación.\n",
    "  * Al ser de alto nivel permite escribir programas complejos de forma compacta y fácil de entender principalmente debido a los tipos de datos de alto nivel y no requiere definir los tipos de variables y funciones.\n",
    "* **IPython** es un visor interactivo (por eso \"I\"Python) que a través del uso de colores y funcionalidades extras acerca más la experiencia de programación al Usuario. Sus principales ventajas son:\n",
    "  * Uso de colores para resaltar tipos de variables, errores y líneas.\n",
    "  * Autocompletación de variables usando tabulación.\n",
    "  * Está basado en una arquitectura en paralelo lo que le permite ejecutar diferentes operaciones a la vez: debugging, desarrollo, ejecución, etc.\n",
    "* Fácil de instalar en Windows (a través de Anaconda, Entough Canopy), Linux (centro de software) y Mac."
   ]
  },
  {
   "cell_type": "markdown",
   "metadata": {},
   "source": [
    "### 2. Tipos de datos en Python\n",
    "Un tipo de dato es la propiedad de un valor que determina: su dominio (valores que puede tomar), las operaciones que se le pueden aplicar y la representación interna que usa el propio computador.\n",
    "En python existen esencialmente:\n",
    "\n",
    "1. Números enteros (int).\n",
    "2. Números reales o de punto flotante (float).\n",
    "3. Números complejos (complex).\n",
    "4. Valores lógicos (bool).\n",
    "5. Texto (str).\n",
    "\n",
    "A continuación veremos las características de cada uno por separado."
   ]
  },
  {
   "cell_type": "markdown",
   "metadata": {},
   "source": [
    "### 2.1 Números Enteros.\n",
    "Como su nombre lo dice son números enteros a las cuales se le pueden aplicar las operatorias básicas conocidas: suma(`+`), sustracción (`-`), multiplicación (`*`), división flotante (`/`), división entera (`//`), módulo (`%`), potenciación (`**`)."
   ]
  },
  {
   "cell_type": "code",
   "execution_count": null,
   "metadata": {
    "collapsed": false,
    "scrolled": true
   },
   "outputs": [],
   "source": [
    "2+2"
   ]
  },
  {
   "cell_type": "code",
   "execution_count": null,
   "metadata": {
    "collapsed": false
   },
   "outputs": [],
   "source": [
    "1-10"
   ]
  },
  {
   "cell_type": "code",
   "execution_count": null,
   "metadata": {
    "collapsed": false
   },
   "outputs": [],
   "source": [
    "3*2"
   ]
  },
  {
   "cell_type": "code",
   "execution_count": null,
   "metadata": {
    "collapsed": false
   },
   "outputs": [],
   "source": [
    "4/5"
   ]
  },
  {
   "cell_type": "code",
   "execution_count": null,
   "metadata": {
    "collapsed": false
   },
   "outputs": [],
   "source": [
    "4//5"
   ]
  },
  {
   "cell_type": "code",
   "execution_count": null,
   "metadata": {
    "collapsed": false
   },
   "outputs": [],
   "source": [
    "4%3"
   ]
  },
  {
   "cell_type": "code",
   "execution_count": null,
   "metadata": {
    "collapsed": false
   },
   "outputs": [],
   "source": [
    "3**2"
   ]
  },
  {
   "cell_type": "markdown",
   "metadata": {},
   "source": [
    "**Observación**: En python 3 la división \"tradicional\" de enteros da un flotante. Esto si bien no es conceptualmente coherente (la operacion de 2 tipos deberia originar el mismo tipo de datos), es en la práctica lo que se busca y es \"pragmaticamente\" más coherente. Si se busca la división entera, es necesario utilizar `//`."
   ]
  },
  {
   "cell_type": "markdown",
   "metadata": {},
   "source": [
    "### Desafío 1 ###\n",
    "Calcular el siguiente valor utilizando las operaciones anteriormente descritas:\n",
    "\n",
    "$$ 1 + 2^2 - 3^3 + 4^4 - 5^5 + 6^6 -7^7 +8^8 -9^9 $$\n",
    "\n",
    "Pista: El resultado deberia ser $-371423051$"
   ]
  },
  {
   "cell_type": "code",
   "execution_count": null,
   "metadata": {
    "collapsed": false
   },
   "outputs": [],
   "source": [
    "# INSERTAR CODIGO AQUI #\n"
   ]
  },
  {
   "cell_type": "markdown",
   "metadata": {},
   "source": [
    "### 2.2 Números reales o de punto flotante.\n",
    "La operatoria con números flotantes nos permite utilizar las operaciones matemáticas que bien conocemos sin problema. Para ingresar un número de punto flotante se debe ingresar su parte entera seguida por su parte decimal. Sin embargo, si queremos operar como número de punto flotante a un número entero se debe agregar un 0 luego del punto. \n",
    "Veamos que nos entrega el computador en el caso de la división anterior con números de punto flotante:"
   ]
  },
  {
   "cell_type": "code",
   "execution_count": null,
   "metadata": {
    "collapsed": false
   },
   "outputs": [],
   "source": [
    "4.0/5.0"
   ]
  },
  {
   "cell_type": "code",
   "execution_count": null,
   "metadata": {
    "collapsed": false
   },
   "outputs": [],
   "source": [
    "4./5."
   ]
  },
  {
   "cell_type": "markdown",
   "metadata": {},
   "source": [
    "Los numeros reales (o flotantes) tienen las mismas operaciones que los numeros enteros.\n",
    "\n",
    "Los números reales no pueden representarse con precisión infinita en el computador, por lo que resulta necesario considerar que siempre existe un error de redondeo. "
   ]
  },
  {
   "cell_type": "markdown",
   "metadata": {},
   "source": [
    "### Desafío 2 ###\n",
    "Evalúe la siguiente expresión utilizando las operaciones de enteros:\n",
    "$$ \\frac{1 + \\frac{2}{4+\\frac{8}{16}}}{1 - \\frac{1}{1+\\frac{1}{2}}}$$\n",
    "Pista: El resultado debería ser $4.33333333333$"
   ]
  },
  {
   "cell_type": "code",
   "execution_count": null,
   "metadata": {
    "collapsed": false
   },
   "outputs": [],
   "source": [
    "# INSERTAR CODIGO AQUI #\n",
    "num = 1\n",
    "den = 1\n",
    "print num/den"
   ]
  },
  {
   "cell_type": "markdown",
   "metadata": {},
   "source": [
    "### Desafío 3 ###\n",
    "Evalúe la siguiente expresión\n",
    "$$ 1 + \\sqrt{2} + \\sqrt[3]{3} + \\sqrt[4]{4} + \\sqrt[5]{5}  + \\sqrt[6]{6}$$\n",
    "Pista: Recuerde que $\\sqrt[n]{p} = p^{\\frac{1}{n}}$."
   ]
  },
  {
   "cell_type": "code",
   "execution_count": null,
   "metadata": {
    "collapsed": false
   },
   "outputs": [],
   "source": [
    "# INSERTAR CODIGO AQUI #\n"
   ]
  },
  {
   "cell_type": "markdown",
   "metadata": {},
   "source": [
    "### 2.3 Números complejos\n",
    "Python nos permite operar con números complejos a través de la sintaxis `a+bj`, donde `j` denota al número imaginario en el sistema. Las operaciones posibles sobre los numeros complejos son las mismas de los numeros reales. Veamos algunos ejemplos:"
   ]
  },
  {
   "cell_type": "code",
   "execution_count": null,
   "metadata": {
    "collapsed": false
   },
   "outputs": [],
   "source": [
    "(3 + 2j) + (- 2j) # Sigue siendo numero complejo aunque se cancele la parte imaginaria"
   ]
  },
  {
   "cell_type": "code",
   "execution_count": null,
   "metadata": {
    "collapsed": false
   },
   "outputs": [],
   "source": [
    "(3 + 2j) - (12 + 5j)"
   ]
  },
  {
   "cell_type": "code",
   "execution_count": null,
   "metadata": {
    "collapsed": false
   },
   "outputs": [],
   "source": [
    "(3-2j)*(-2j)"
   ]
  },
  {
   "cell_type": "code",
   "execution_count": null,
   "metadata": {
    "collapsed": false
   },
   "outputs": [],
   "source": [
    "(12+5j)/(4-3j)"
   ]
  },
  {
   "cell_type": "markdown",
   "metadata": {},
   "source": [
    "Si definimos un un número complejo $a$ podemos encontrar su parte real e imaginaria mediante la sintaxis \"a.real\" y \"a.imag\", mientras que su módulo puede ser determinado a través de la función \"abs\". Veamos un ejemplo de estas operatorias especiales:"
   ]
  },
  {
   "cell_type": "code",
   "execution_count": null,
   "metadata": {
    "collapsed": false
   },
   "outputs": [],
   "source": [
    "a=3+4j\n",
    "print a.real\n",
    "print a.imag\n",
    "print abs(a)"
   ]
  },
  {
   "cell_type": "markdown",
   "metadata": {},
   "source": [
    "### 2.4 Valores lógicos o booleanos\n",
    "Los valores lógicos son aquellos que únicamente pueden tener valores de verdad: verdadero (`True`) o falso (`False`). Se utilizan principalmente para verificar el estado de verdad de expresiones y evaluar condicionales o estructuras de control. \n",
    "Un ejemplo sencillo sobre cómo obtener booleanos viene de aplicar las operaciones de orden en números. Por ejemplo la comparación de igualdad \"== \", o las desigualdades \"<=\", \"<=\", \"<\", \">\".\n",
    "Los booleanos tienen además las operaciones tradicionales: y (`and`), o (`or`), negación (`not`)."
   ]
  },
  {
   "cell_type": "code",
   "execution_count": null,
   "metadata": {
    "collapsed": false
   },
   "outputs": [],
   "source": [
    "3==4"
   ]
  },
  {
   "cell_type": "code",
   "execution_count": null,
   "metadata": {
    "collapsed": false
   },
   "outputs": [],
   "source": [
    "100==100"
   ]
  },
  {
   "cell_type": "code",
   "execution_count": null,
   "metadata": {
    "collapsed": false
   },
   "outputs": [],
   "source": [
    "3.4 <= 5"
   ]
  },
  {
   "cell_type": "code",
   "execution_count": null,
   "metadata": {
    "collapsed": false
   },
   "outputs": [],
   "source": [
    "(not True or True ) and (not False)"
   ]
  },
  {
   "cell_type": "markdown",
   "metadata": {},
   "source": [
    "Cabe destacar que python soporta el uso encadenado de expresiones lógicas de comparación:"
   ]
  },
  {
   "cell_type": "code",
   "execution_count": null,
   "metadata": {
    "collapsed": false
   },
   "outputs": [],
   "source": [
    "x = 10\n",
    "1 <= x <= 100"
   ]
  },
  {
   "cell_type": "markdown",
   "metadata": {},
   "source": [
    "### Desafío 4 ###\n",
    "Dado un cierto numero $x$, evalue si el número es múltiplo de 6 y 7 pero no de 8.\n",
    "\n",
    "**PISTA**: Un número $n$ es múltiplo de $p$ si el modulo (resto de división entera) es cero. En python, esto es `n%p==0 ` \n"
   ]
  },
  {
   "cell_type": "code",
   "execution_count": null,
   "metadata": {
    "collapsed": false
   },
   "outputs": [],
   "source": [
    "x = 426\n",
    "respuesta = True and True or False\n",
    "print respuesta"
   ]
  },
  {
   "cell_type": "markdown",
   "metadata": {},
   "source": [
    "### 2.5 Texto o Strings\n",
    "Los strings son las cadenas de texto que nos permiten, por ejemplo, imprimir información por pantalla. Al igual que los ejemplos de datos anteriores poseen características y operatorias propias que nos facilitan tremendamente la utilización de éstos. La definición de strings se puede realizarse con comillas simples (`'`), comillas dobles (`\"`), triple comilla simple (`'''`) o triple comilla doble (`\"\"\"`). El uso de strings en python es tan importante que hemos definido una sección especial para explicarlos y practicarlos: [string en python](02_python_strings/strings.ipynb)."
   ]
  },
  {
   "cell_type": "code",
   "execution_count": null,
   "metadata": {
    "collapsed": false
   },
   "outputs": [],
   "source": [
    "string_1 = \"Ex Umbra in Solem\"\n",
    "print string_1"
   ]
  },
  {
   "cell_type": "code",
   "execution_count": null,
   "metadata": {
    "collapsed": false
   },
   "outputs": [],
   "source": [
    "string_2 = 'Ble ble'\n",
    "print string_2"
   ]
  },
  {
   "cell_type": "code",
   "execution_count": null,
   "metadata": {
    "collapsed": false
   },
   "outputs": [],
   "source": [
    "string_3 = 'Ble ble'\n",
    "print string_3"
   ]
  },
  {
   "cell_type": "code",
   "execution_count": null,
   "metadata": {
    "collapsed": false
   },
   "outputs": [],
   "source": [
    "string_4 = 'Ble ble'\n",
    "print string_4"
   ]
  }
 ],
 "metadata": {
  "kernelspec": {
   "display_name": "Python 2",
   "language": "python",
   "name": "python2"
  },
  "language_info": {
   "codemirror_mode": {
    "name": "ipython",
    "version": 2
   },
   "file_extension": ".py",
   "mimetype": "text/x-python",
   "name": "python",
   "nbconvert_exporter": "python",
   "pygments_lexer": "ipython2",
   "version": "2.7.6"
  }
 },
 "nbformat": 4,
 "nbformat_minor": 0
}
