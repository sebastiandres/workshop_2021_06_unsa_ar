{
 "cells": [
  {
   "cell_type": "markdown",
   "metadata": {},
   "source": [
    "<img src=\"images/utfsm.png\" alt=\"\" width=\"100px\" align=\"right\"/>\n",
    "# USM Numérica"
   ]
  },
  {
   "cell_type": "markdown",
   "metadata": {},
   "source": [
    "# Licencia y configuración del laboratorio\n",
    "Ejecutar la siguiente celda mediante *`Ctr-S`*."
   ]
  },
  {
   "cell_type": "code",
   "execution_count": 1,
   "metadata": {
    "collapsed": false
   },
   "outputs": [
    {
     "data": {
      "text/html": [
       "<style>\n",
       "\n",
       "/*********************************************\n",
       " * CHANGE CURSIVE FOR RED\n",
       " *********************************************/\n",
       "em {font-style: normal !important;\n",
       "    color: #800000;}\n",
       "\n",
       "</style>\n"
      ],
      "text/plain": [
       "<IPython.core.display.HTML object>"
      ]
     },
     "execution_count": 1,
     "metadata": {},
     "output_type": "execute_result"
    }
   ],
   "source": [
    "\"\"\"\n",
    "IPython Notebook v4.0 para python 3.0\n",
    "Librerías adicionales: \n",
    "Contenido bajo licencia CC-BY 4.0. Código bajo licencia MIT. \n",
    "(c) Sebastian Flores, Christopher Cooper, Alberto Rubio, Pablo Bunout.\n",
    "\"\"\"\n",
    "# Configuración para recargar módulos y librerías dinámicamente\n",
    "%reload_ext autoreload\n",
    "%autoreload 2\n",
    "\n",
    "# Configuración para graficos en línea\n",
    "%matplotlib inline\n",
    "\n",
    "# Configuración de estilo\n",
    "from IPython.core.display import HTML\n",
    "HTML(open(\"./style/style.css\", \"r\").read())"
   ]
  },
  {
   "cell_type": "markdown",
   "metadata": {},
   "source": [
    "## Introducción a STRING"
   ]
  },
  {
   "cell_type": "markdown",
   "metadata": {},
   "source": [
    "En Python podemos definir distintos tipos de variables, en este caso un objeto definido como un *string* tiene una serie de cualidades que nos permiten realizar ciertas operaciones que definiremos en este tutorial.\n",
    "\n",
    "En particular el nombre *string* refiere a una secuencia de caracteres que puede ser utilizada como variable para representar otro objeto de distinta naturaleza como un número, también puede construirse un algoritmo que nos permita dar acceso a algún archivo o directorio a partir de una contraseña, entre otras posibilidades. A continuación presentamos una serie de operaciones comunes que nos permitirán tener un manejo básico de un *string*."
   ]
  },
  {
   "cell_type": "markdown",
   "metadata": {},
   "source": [
    "## Objetivos"
   ]
  },
  {
   "cell_type": "markdown",
   "metadata": {},
   "source": [
    "1. Operaciones básicas para crear un formato\n",
    "2. Operaciones de búsqueda\n",
    "3. Operaciones lógicas de formato\n",
    "4. Sentencias de condicionamiento\n",
    "5. Ejercicio de práctica\n"
   ]
  },
  {
   "cell_type": "markdown",
   "metadata": {},
   "source": [
    "### 1. Operaciones básicas para asignar un formato"
   ]
  },
  {
   "cell_type": "markdown",
   "metadata": {},
   "source": [
    "En ocasiones se vuelve útil poder controlar a partir de ciertos comandos el formato de un *string*, pudiendo cambiar letras mayúsculas y minúsculas, centrar o mover la variable a un extremo de la pantalla y/o darle un formato en específico a nuestra secuencia.\n",
    "\n",
    "Por ejemplo un *string* que definiremos como variable podemos hacer que represente un pequeño texto, una vez definido nuestro *string* le daremos un formato de título mediante el siguiente comando.\n"
   ]
  },
  {
   "cell_type": "code",
   "execution_count": 2,
   "metadata": {
    "collapsed": false
   },
   "outputs": [
    {
     "name": "stdout",
     "output_type": "stream",
     "text": [
      "Aprender Haciendo\n"
     ]
    }
   ],
   "source": [
    "cadena_1 = \"aprender haciendo\"\n",
    "\n",
    "print cadena_1.title()"
   ]
  },
  {
   "cell_type": "markdown",
   "metadata": {},
   "source": [
    "Otra posibilidad es que imprima nuestra variable asignada únicamente con letras mayúsculas.\n"
   ]
  },
  {
   "cell_type": "code",
   "execution_count": 3,
   "metadata": {
    "collapsed": false
   },
   "outputs": [
    {
     "name": "stdout",
     "output_type": "stream",
     "text": [
      "APRENDER HACIENDO\n"
     ]
    }
   ],
   "source": [
    "print cadena_1.upper()"
   ]
  },
  {
   "cell_type": "markdown",
   "metadata": {},
   "source": [
    "Centrar o alinear un texto a la izquierda o derecha de la pantalla son otras opciones de formato posibles de realizar con comandos de python definidos para un string."
   ]
  },
  {
   "cell_type": "code",
   "execution_count": 4,
   "metadata": {
    "collapsed": false
   },
   "outputs": [
    {
     "name": "stdout",
     "output_type": "stream",
     "text": [
      "===========lo maravilloso de programar============\n"
     ]
    }
   ],
   "source": [
    "cadena_2 = \"lo maravilloso de programar\"\n",
    "\n",
    "print cadena_2.center(50,\"=\")"
   ]
  },
  {
   "cell_type": "markdown",
   "metadata": {},
   "source": [
    "Podemos redefinir una variable con cierto formato y luego convinar con otra opción de formato como sigue."
   ]
  },
  {
   "cell_type": "code",
   "execution_count": 5,
   "metadata": {
    "collapsed": false
   },
   "outputs": [
    {
     "name": "stdout",
     "output_type": "stream",
     "text": [
      "                       Aprender Haciendo\n"
     ]
    }
   ],
   "source": [
    "cadena_1 = \"aprender haciendo\".title()\n",
    "\n",
    "print cadena_1.rjust(40, \" \")"
   ]
  },
  {
   "cell_type": "markdown",
   "metadata": {},
   "source": [
    "Se puede observar que el comando anterior ajusta el texto a la derecha, además de que se puede introducir cualquier símbolo incluso espacio, su homólogo a la izquierda es el siguiente."
   ]
  },
  {
   "cell_type": "code",
   "execution_count": 6,
   "metadata": {
    "collapsed": false
   },
   "outputs": [
    {
     "name": "stdout",
     "output_type": "stream",
     "text": [
      "Aprender Haciendo***********************\n"
     ]
    }
   ],
   "source": [
    "print cadena_1.ljust(40, \"*\")"
   ]
  },
  {
   "cell_type": "markdown",
   "metadata": {},
   "source": [
    "### 2. Operaciones de busqueda en un string"
   ]
  },
  {
   "cell_type": "markdown",
   "metadata": {},
   "source": [
    "Realizar operaciones de búsqueda de un caracter o subcadena dentro de una cadena, pudiendo contabilizar cuantas veces se repite este carácter o determinar la posición en la cual se encuentra la subcadena dentro de la cadena es posible mediante los siguientes comandos.\n",
    "\n",
    "```Python\n",
    "\n",
    "```"
   ]
  },
  {
   "cell_type": "code",
   "execution_count": 7,
   "metadata": {
    "collapsed": false
   },
   "outputs": [
    {
     "data": {
      "text/plain": [
       "11"
      ]
     },
     "execution_count": 7,
     "metadata": {},
     "output_type": "execute_result"
    }
   ],
   "source": [
    "cadena_3 = \"buscando a wally\".title()\n",
    "\n",
    "cadena_3.find(\"Wally\")"
   ]
  },
  {
   "cell_type": "markdown",
   "metadata": {},
   "source": [
    "EL comando *`find`* nos arroja un número que nos indica la posición que antecede al primer caracter de Wally, es decir encontramos a Wally luego del carácter que se ubica luego de la posición 11 dentro de la cadena 3. Otra opción es realizar una búsqueda de un subtexto en un tramo definido de la variable, mencionando además que cuando no se encuentra el carácter en el tramo definido, por defecto nos arroja el valor -1."
   ]
  },
  {
   "cell_type": "code",
   "execution_count": 8,
   "metadata": {
    "collapsed": false
   },
   "outputs": [
    {
     "data": {
      "text/plain": [
       "-1"
      ]
     },
     "execution_count": 8,
     "metadata": {},
     "output_type": "execute_result"
    }
   ],
   "source": [
    "cadena_3.find(\"Wally\",0,10)"
   ]
  },
  {
   "cell_type": "code",
   "execution_count": 9,
   "metadata": {
    "collapsed": false
   },
   "outputs": [
    {
     "data": {
      "text/plain": [
       "11"
      ]
     },
     "execution_count": 9,
     "metadata": {},
     "output_type": "execute_result"
    }
   ],
   "source": [
    "cadena_3.find(\"Wally\",2,20)"
   ]
  },
  {
   "cell_type": "markdown",
   "metadata": {},
   "source": [
    "Podemos también contabilizar cuantas veces se encuentra un caracter o subcadena dentro de una cadena con el comando *`count`*. Y de igual modo que antes la contabilización es posible de realizar en un tramo definido del texto."
   ]
  },
  {
   "cell_type": "code",
   "execution_count": 10,
   "metadata": {
    "collapsed": false
   },
   "outputs": [
    {
     "data": {
      "text/plain": [
       "3"
      ]
     },
     "execution_count": 10,
     "metadata": {},
     "output_type": "execute_result"
    }
   ],
   "source": [
    "cadena_4 = \"que fácil de encontrar\"\n",
    "\n",
    "cadena_4.count(\"e\")\n"
   ]
  },
  {
   "cell_type": "code",
   "execution_count": 11,
   "metadata": {
    "collapsed": false
   },
   "outputs": [
    {
     "data": {
      "text/plain": [
       "2"
      ]
     },
     "execution_count": 11,
     "metadata": {},
     "output_type": "execute_result"
    }
   ],
   "source": [
    "cadena_4.count(\"e\",0,13)"
   ]
  },
  {
   "cell_type": "markdown",
   "metadata": {
    "collapsed": true
   },
   "source": [
    "### 3. Operaciones lógicas de formato"
   ]
  },
  {
   "cell_type": "markdown",
   "metadata": {},
   "source": [
    "Veremos que podemos realizar sentencias lógicas en relación a características de un *string*, esto puede ser de mucha ayuda a la hora de definir ciertos formatos para variables que el programador o usuario deben manipular.\n",
    "\n",
    "Comenzamos con sentencias que refieren al formato de un *string*, por ejemplo saber si comienza o termina con determinados caracteres, utilizando los comandos *`startswith()`* y *`endswith()`* respectivamente, a lo que Python respondera con verdadero o falso."
   ]
  },
  {
   "cell_type": "code",
   "execution_count": 12,
   "metadata": {
    "collapsed": false
   },
   "outputs": [
    {
     "name": "stdout",
     "output_type": "stream",
     "text": [
      "True\n"
     ]
    }
   ],
   "source": [
    "cadena_5 = \"construyendo un detector de mentiras\"\n",
    "print cadena_5.startswith(\"construyendo un\")"
   ]
  },
  {
   "cell_type": "code",
   "execution_count": 13,
   "metadata": {
    "collapsed": false
   },
   "outputs": [
    {
     "name": "stdout",
     "output_type": "stream",
     "text": [
      "False\n"
     ]
    }
   ],
   "source": [
    "print cadena_5.endswith(\"detector\")"
   ]
  },
  {
   "cell_type": "markdown",
   "metadata": {},
   "source": [
    "Además podemos verificar si el *string* contiene caracteres sólo numéricos, alfabéticos o alfanuméricos, usando los comandos *`isdigit()`*, *`isalpha()`* y *`isalnum()`* respectivamente."
   ]
  },
  {
   "cell_type": "code",
   "execution_count": 14,
   "metadata": {
    "collapsed": false
   },
   "outputs": [
    {
     "name": "stdout",
     "output_type": "stream",
     "text": [
      "False\n"
     ]
    }
   ],
   "source": [
    "cadena_6 = \"ano\"\n",
    "print cadena_6.isdigit()"
   ]
  },
  {
   "cell_type": "code",
   "execution_count": 15,
   "metadata": {
    "collapsed": false
   },
   "outputs": [
    {
     "name": "stdout",
     "output_type": "stream",
     "text": [
      "False\n"
     ]
    }
   ],
   "source": [
    "cadena_7 = \"1987\"\n",
    "print cadena_7.isalpha()"
   ]
  },
  {
   "cell_type": "code",
   "execution_count": 16,
   "metadata": {
    "collapsed": false
   },
   "outputs": [
    {
     "name": "stdout",
     "output_type": "stream",
     "text": [
      "ano1987\n",
      "True\n"
     ]
    }
   ],
   "source": [
    "cadena_8 = cadena_6 + cadena_7\n",
    "print cadena_8\n",
    "print cadena_8.isalnum()"
   ]
  },
  {
   "cell_type": "markdown",
   "metadata": {},
   "source": [
    "Luego podemos intentar con otras características de formato, como por ejemplo saber si la cadena contiene caracteres sólo mayúsculas, sólo minúsculas o inclusive algún formato especifico como de título, usando los comandos *`isupper()`*, *`islower()`* y por último *`istitle()`* "
   ]
  },
  {
   "cell_type": "code",
   "execution_count": 17,
   "metadata": {
    "collapsed": false
   },
   "outputs": [
    {
     "name": "stdout",
     "output_type": "stream",
     "text": [
      "False\n"
     ]
    }
   ],
   "source": [
    "nombre = \"isaac\"\n",
    "print nombre.isupper()"
   ]
  },
  {
   "cell_type": "code",
   "execution_count": 18,
   "metadata": {
    "collapsed": false
   },
   "outputs": [
    {
     "name": "stdout",
     "output_type": "stream",
     "text": [
      "False\n",
      "False\n"
     ]
    }
   ],
   "source": [
    "apellido = \"asimov\".upper()\n",
    "print apellido.islower()\n",
    "respuesta = apellido.islower()\n",
    "print respuesta"
   ]
  },
  {
   "cell_type": "code",
   "execution_count": 19,
   "metadata": {
    "collapsed": false
   },
   "outputs": [
    {
     "name": "stdout",
     "output_type": "stream",
     "text": [
      "IsaacAsimov\n"
     ]
    }
   ],
   "source": [
    "nombre_completo = nombre.title() + apellido.title()\n",
    "\n",
    "print nombre_completo"
   ]
  },
  {
   "cell_type": "markdown",
   "metadata": {},
   "source": [
    "La última característica de formato aplicada desde una operación lógica será si la cadena contiene sólo espacios en blanco, para lo que utilizaremos el comando *`isspace()`* como sigue a continuación."
   ]
  },
  {
   "cell_type": "code",
   "execution_count": 20,
   "metadata": {
    "collapsed": false
   },
   "outputs": [
    {
     "name": "stdout",
     "output_type": "stream",
     "text": [
      "False\n"
     ]
    }
   ],
   "source": [
    "nombre_completo = \"isaac asimov\".title()\n",
    "print nombre_completo.isspace()"
   ]
  },
  {
   "cell_type": "markdown",
   "metadata": {},
   "source": [
    "### 4. Sentencias de condicionamiento"
   ]
  },
  {
   "cell_type": "markdown",
   "metadata": {},
   "source": [
    "Por último en este tutorial introduciremos una sentencia de condicionamiento que nos permitirá ampliar el espectro de aplicación de operaciones lógicas a partir de elementos básicos."
   ]
  },
  {
   "cell_type": "code",
   "execution_count": 21,
   "metadata": {
    "collapsed": false
   },
   "outputs": [
    {
     "name": "stdout",
     "output_type": "stream",
     "text": [
      "la contrasena contiene menos de 10 caracteres\n"
     ]
    }
   ],
   "source": [
    "contrasena_1 = \"abcd1234\"\n",
    "\n",
    "if len(contrasena_1)<10:\n",
    "    print \"la contrasena contiene menos de 10 caracteres\"\n",
    "else:\n",
    "    print \"contrasena válida\""
   ]
  },
  {
   "cell_type": "code",
   "execution_count": 22,
   "metadata": {
    "collapsed": false
   },
   "outputs": [
    {
     "name": "stdout",
     "output_type": "stream",
     "text": [
      "la contrasena debe contener al menos 1 caracter mayúscula\n"
     ]
    }
   ],
   "source": [
    "contrasena_2 = \"abcd1234ab\"\n",
    "respuesta = contrasena_2.islower()\n",
    "\n",
    "if len(contrasena_2)<10:\n",
    "    print \"la contrasena contiene menos de 10 caracteres\"\n",
    "elif respuesta == True:\n",
    "    print \"la contrasena debe contener al menos 1 caracter mayúscula\"\n",
    "else:\n",
    "    print \"contrasena válida\""
   ]
  },
  {
   "cell_type": "markdown",
   "metadata": {},
   "source": [
    "### 5. Ejercicio de práctica"
   ]
  },
  {
   "cell_type": "markdown",
   "metadata": {},
   "source": [
    "Para aplicar lo aprendido en este tutorial, se deja el ejercicio de crear una pequeña rutina que verifique si los datos referente a las variables *`nombre_usuario`* y *`contrasena`* cumplen con las siguientes condiciones:\n",
    "\n",
    " * El nombre de usuario debe encontrarse en formato de título\n",
    " * El nombre de usuario sólo debe contener caracteres alfabéticos\n",
    " * Para la contraseña se debe especificar que si tiene menor a 5 caracteres no es válida\n",
    " * Si la contraseña tiene menos de 8 caracteres es riesgosa y mayor o igual a 10 es segura\n",
    " * La contraseña debe ser de tipo alfanumérica y no debe tener espacios en blanco\n",
    " * Por último la contrasena debe contener mayúsculas y minúsculas"
   ]
  },
  {
   "cell_type": "code",
   "execution_count": 23,
   "metadata": {
    "collapsed": false
   },
   "outputs": [
    {
     "ename": "SyntaxError",
     "evalue": "invalid syntax (<ipython-input-23-b435fbb4300a>, line 1)",
     "output_type": "error",
     "traceback": [
      "\u001b[1;36m  File \u001b[1;32m\"<ipython-input-23-b435fbb4300a>\"\u001b[1;36m, line \u001b[1;32m1\u001b[0m\n\u001b[1;33m    desarrollo ejercicio\u001b[0m\n\u001b[1;37m                       ^\u001b[0m\n\u001b[1;31mSyntaxError\u001b[0m\u001b[1;31m:\u001b[0m invalid syntax\n"
     ]
    }
   ],
   "source": [
    ">>> desarrollo ejercicio"
   ]
  }
 ],
 "metadata": {
  "kernelspec": {
   "display_name": "Python 2",
   "language": "python",
   "name": "python2"
  },
  "language_info": {
   "codemirror_mode": {
    "name": "ipython",
    "version": 2
   },
   "file_extension": ".py",
   "mimetype": "text/x-python",
   "name": "python",
   "nbconvert_exporter": "python",
   "pygments_lexer": "ipython2",
   "version": "2.7.10"
  }
 },
 "nbformat": 4,
 "nbformat_minor": 0
}
